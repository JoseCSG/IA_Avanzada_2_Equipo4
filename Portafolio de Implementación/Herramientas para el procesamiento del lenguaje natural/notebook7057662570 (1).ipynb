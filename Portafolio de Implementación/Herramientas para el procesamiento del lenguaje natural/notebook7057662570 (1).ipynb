{
  "metadata": {
    "kernelspec": {
      "display_name": "Python 3",
      "language": "python",
      "name": "python3"
    },
    "language_info": {
      "name": "python",
      "version": "3.10.14",
      "mimetype": "text/x-python",
      "codemirror_mode": {
        "name": "ipython",
        "version": 3
      },
      "pygments_lexer": "ipython3",
      "nbconvert_exporter": "python",
      "file_extension": ".py"
    },
    "kaggle": {
      "accelerator": "none",
      "dataSources": [
        {
          "sourceId": 120,
          "sourceType": "datasetVersion",
          "datasetId": 55
        },
        {
          "sourceId": 2998,
          "sourceType": "datasetVersion",
          "datasetId": 1717
        },
        {
          "sourceId": 9430425,
          "sourceType": "datasetVersion",
          "datasetId": 5729241
        }
      ],
      "dockerImageVersionId": 30761,
      "isInternetEnabled": false,
      "language": "python",
      "sourceType": "notebook",
      "isGpuEnabled": false
    },
    "colab": {
      "name": "notebook7057662570",
      "provenance": []
    }
  },
  "nbformat_minor": 0,
  "nbformat": 4,
  "cells": [
    {
      "source": [
        "\n",
        "# IMPORTANT: RUN THIS CELL IN ORDER TO IMPORT YOUR KAGGLE DATA SOURCES\n",
        "# TO THE CORRECT LOCATION (/kaggle/input) IN YOUR NOTEBOOK,\n",
        "# THEN FEEL FREE TO DELETE THIS CELL.\n",
        "# NOTE: THIS NOTEBOOK ENVIRONMENT DIFFERS FROM KAGGLE'S PYTHON\n",
        "# ENVIRONMENT SO THERE MAY BE MISSING LIBRARIES USED BY YOUR\n",
        "# NOTEBOOK.\n",
        "\n",
        "import os\n",
        "import sys\n",
        "from tempfile import NamedTemporaryFile\n",
        "from urllib.request import urlopen\n",
        "from urllib.parse import unquote, urlparse\n",
        "from urllib.error import HTTPError\n",
        "from zipfile import ZipFile\n",
        "import tarfile\n",
        "import shutil\n",
        "\n",
        "CHUNK_SIZE = 40960\n",
        "DATA_SOURCE_MAPPING = 'enron-email-dataset:https%3A%2F%2Fstorage.googleapis.com%2Fkaggle-data-sets%2F55%2F120%2Fbundle%2Farchive.zip%3FX-Goog-Algorithm%3DGOOG4-RSA-SHA256%26X-Goog-Credential%3Dgcp-kaggle-com%2540kaggle-161607.iam.gserviceaccount.com%252F20240919%252Fauto%252Fstorage%252Fgoog4_request%26X-Goog-Date%3D20240919T225927Z%26X-Goog-Expires%3D259200%26X-Goog-SignedHeaders%3Dhost%26X-Goog-Signature%3D507edb3ded57b56cda5dd6ea3ad63baf45fa738ac03b87ad682a2d3df8b10c5b9865faec3eeb095d50fc287d4dd554f36f4a5f52ef20e9261ad1b1dec61b96475222ad0e6ba9135346f8165a5b002187a407db1de3d57c7aa08d9d44a1bce910753c627f11c670c9928ef8a3819cb7f00769b115f1aada49c38b7c32c6e2a14cb268928dd7711754de0eba10331e9bb390d8e1f0dcb6cea88b1ca9e6abf772651b23ed08b960e72a95c2feffb5b9eee523cd35709c8b747c627f04ad777c1c528db5fff8d08be37f57a2ec72407ace172c946676e5eb3bb24e8949e4c63e0b02ec66e2ad470126aa988ec95df791fe06d2bfc80b9519c1fcbe7f955bf28dc777,fraudulent-email-corpus:https%3A%2F%2Fstorage.googleapis.com%2Fkaggle-data-sets%2F1717%2F2998%2Fbundle%2Farchive.zip%3FX-Goog-Algorithm%3DGOOG4-RSA-SHA256%26X-Goog-Credential%3Dgcp-kaggle-com%2540kaggle-161607.iam.gserviceaccount.com%252F20240919%252Fauto%252Fstorage%252Fgoog4_request%26X-Goog-Date%3D20240919T225927Z%26X-Goog-Expires%3D259200%26X-Goog-SignedHeaders%3Dhost%26X-Goog-Signature%3D5aa125dd436e249eb1c2de9a8dce4a9d3ada904b4802b7e904c5233ac9fbe9bd98e43951c4ce14dd48a05339fc74ba959e396b62012afeb0babe11d96856cc42b5dc132b5d679c82eb7cac1c7c1a3c362c5241a754a601334cfab364f0ea649c082d2ccdb2eb9559c22117d825c756971a240e358dde288e882149a60eca272eafdd31ed436e483aa330154ddc9d010932a6dc88d7a398f3505d6bc66240f93a83f836f8b7ce378fcb70654d69548785bec628604c9823d3a6d704a7f0afa3085a7fe67162bbcf6dadc98064887e4e6659fc7e4479e28dca7315c791bf6209d59d2f49de3ccb9eaa6a4ccf9a9f9081f3bd37f2a70452b6e6b84d30c39006b96b'\n",
        "\n",
        "KAGGLE_INPUT_PATH='/kaggle/input'\n",
        "KAGGLE_WORKING_PATH='/kaggle/working'\n",
        "KAGGLE_SYMLINK='kaggle'\n",
        "\n",
        "!umount /kaggle/input/ 2> /dev/null\n",
        "shutil.rmtree('/kaggle/input', ignore_errors=True)\n",
        "os.makedirs(KAGGLE_INPUT_PATH, 0o777, exist_ok=True)\n",
        "os.makedirs(KAGGLE_WORKING_PATH, 0o777, exist_ok=True)\n",
        "\n",
        "try:\n",
        "  os.symlink(KAGGLE_INPUT_PATH, os.path.join(\"..\", 'input'), target_is_directory=True)\n",
        "except FileExistsError:\n",
        "  pass\n",
        "try:\n",
        "  os.symlink(KAGGLE_WORKING_PATH, os.path.join(\"..\", 'working'), target_is_directory=True)\n",
        "except FileExistsError:\n",
        "  pass\n",
        "\n",
        "for data_source_mapping in DATA_SOURCE_MAPPING.split(','):\n",
        "    directory, download_url_encoded = data_source_mapping.split(':')\n",
        "    download_url = unquote(download_url_encoded)\n",
        "    filename = urlparse(download_url).path\n",
        "    destination_path = os.path.join(KAGGLE_INPUT_PATH, directory)\n",
        "    try:\n",
        "        with urlopen(download_url) as fileres, NamedTemporaryFile() as tfile:\n",
        "            total_length = fileres.headers['content-length']\n",
        "            print(f'Downloading {directory}, {total_length} bytes compressed')\n",
        "            dl = 0\n",
        "            data = fileres.read(CHUNK_SIZE)\n",
        "            while len(data) > 0:\n",
        "                dl += len(data)\n",
        "                tfile.write(data)\n",
        "                done = int(50 * dl / int(total_length))\n",
        "                sys.stdout.write(f\"\\r[{'=' * done}{' ' * (50-done)}] {dl} bytes downloaded\")\n",
        "                sys.stdout.flush()\n",
        "                data = fileres.read(CHUNK_SIZE)\n",
        "            if filename.endswith('.zip'):\n",
        "              with ZipFile(tfile) as zfile:\n",
        "                zfile.extractall(destination_path)\n",
        "            else:\n",
        "              with tarfile.open(tfile.name) as tarfile:\n",
        "                tarfile.extractall(destination_path)\n",
        "            print(f'\\nDownloaded and uncompressed: {directory}')\n",
        "    except HTTPError as e:\n",
        "        print(f'Failed to load (likely expired) {download_url} to path {destination_path}')\n",
        "        continue\n",
        "    except OSError as e:\n",
        "        print(f'Failed to load {download_url} to path {destination_path}')\n",
        "        continue\n",
        "\n",
        "print('Data source import complete.')\n"
      ],
      "metadata": {
        "id": "9IdjLP5hgzAY"
      },
      "cell_type": "code",
      "outputs": [],
      "execution_count": null
    },
    {
      "cell_type": "code",
      "source": [
        "\n",
        "!pip freeze > kaggle_image_requirements.txt"
      ],
      "metadata": {
        "execution": {
          "iopub.status.busy": "2024-09-19T22:39:28.82447Z",
          "iopub.execute_input": "2024-09-19T22:39:28.824907Z",
          "iopub.status.idle": "2024-09-19T22:39:32.954716Z",
          "shell.execute_reply.started": "2024-09-19T22:39:28.824864Z",
          "shell.execute_reply": "2024-09-19T22:39:32.952864Z"
        },
        "trusted": true,
        "id": "uXeT5sGrgzAc"
      },
      "execution_count": null,
      "outputs": []
    },
    {
      "cell_type": "markdown",
      "source": [
        "# Lea y pre-procese el dataset Enron\n",
        "\n",
        "Lea el dataset Enron y obtenga una idea de los datos imprimiendo mensajes de muestra en la pantalla\n"
      ],
      "metadata": {
        "id": "aYbBwWc-gzAc"
      }
    },
    {
      "cell_type": "code",
      "source": [
        "import numpy as np # linear algebra\n",
        "import pandas as pd # procesando datos, CSV file I/O (e.g. pd.read_csv)\n",
        "\n",
        "# Input data files disponibles en el directorio \"../input/\".\n",
        "filepath = \"/kaggle/input/enron-email-dataset/emails.csv\"\n",
        "\n",
        "# Leer los datos enron en un pandas.DataFrame llamada emails\n",
        "emails = pd.read_csv(filepath)\n",
        "\n",
        "print(\"¡Se cargaron exitosamente {} filas and {} columnas!\".format(emails.shape[0], emails.shape[1]))\n",
        "print(emails.head())"
      ],
      "metadata": {
        "execution": {
          "iopub.status.busy": "2024-09-19T22:39:32.957235Z",
          "iopub.execute_input": "2024-09-19T22:39:32.957675Z",
          "iopub.status.idle": "2024-09-19T22:39:48.313678Z",
          "shell.execute_reply.started": "2024-09-19T22:39:32.957629Z",
          "shell.execute_reply": "2024-09-19T22:39:48.312441Z"
        },
        "trusted": true,
        "id": "49o0g30-gzAe",
        "outputId": "3ad254bc-e19b-44f5-9d96-2affa0fdad0c"
      },
      "execution_count": null,
      "outputs": [
        {
          "name": "stdout",
          "text": "¡Se cargaron exitosamente 517401 filas and 2 columnas!\n                       file                                            message\n0     allen-p/_sent_mail/1.  Message-ID: <18782981.1075855378110.JavaMail.e...\n1    allen-p/_sent_mail/10.  Message-ID: <15464986.1075855378456.JavaMail.e...\n2   allen-p/_sent_mail/100.  Message-ID: <24216240.1075855687451.JavaMail.e...\n3  allen-p/_sent_mail/1000.  Message-ID: <13505866.1075863688222.JavaMail.e...\n4  allen-p/_sent_mail/1001.  Message-ID: <30922949.1075863688243.JavaMail.e...\n",
          "output_type": "stream"
        }
      ]
    },
    {
      "cell_type": "code",
      "source": [
        "# 1) DESPLIEGUE CON MAYOR DETALLE EL SEGUNDO EMAIL\n",
        "emails[\"message\"].iloc[1]"
      ],
      "metadata": {
        "execution": {
          "iopub.status.busy": "2024-09-19T22:39:48.315163Z",
          "iopub.execute_input": "2024-09-19T22:39:48.315527Z",
          "iopub.status.idle": "2024-09-19T22:39:48.325369Z",
          "shell.execute_reply.started": "2024-09-19T22:39:48.315491Z",
          "shell.execute_reply": "2024-09-19T22:39:48.324115Z"
        },
        "trusted": true,
        "id": "DeNDBXDKgzAf",
        "outputId": "683b22a2-583a-489f-b6db-e631c65918b2"
      },
      "execution_count": null,
      "outputs": [
        {
          "execution_count": 6,
          "output_type": "execute_result",
          "data": {
            "text/plain": "\"Message-ID: <15464986.1075855378456.JavaMail.evans@thyme>\\nDate: Fri, 4 May 2001 13:51:00 -0700 (PDT)\\nFrom: phillip.allen@enron.com\\nTo: john.lavorato@enron.com\\nSubject: Re:\\nMime-Version: 1.0\\nContent-Type: text/plain; charset=us-ascii\\nContent-Transfer-Encoding: 7bit\\nX-From: Phillip K Allen\\nX-To: John J Lavorato <John J Lavorato/ENRON@enronXgate@ENRON>\\nX-cc: \\nX-bcc: \\nX-Folder: \\\\Phillip_Allen_Jan2002_1\\\\Allen, Phillip K.\\\\'Sent Mail\\nX-Origin: Allen-P\\nX-FileName: pallen (Non-Privileged).pst\\n\\nTraveling to have a business meeting takes the fun out of the trip.  Especially if you have to prepare a presentation.  I would suggest holding the business plan meetings here then take a trip without any formal business meetings.  I would even try and get some honest opinions on whether a trip is even desired or necessary.\\n\\nAs far as the business meetings, I think it would be more productive to try and stimulate discussions across the different groups about what is working and what is not.  Too often the presenter speaks and the others are quiet just waiting for their turn.   The meetings might be better if held in a round table discussion format.  \\n\\nMy suggestion for where to go is Austin.  Play golf and rent a ski boat and jet ski's.  Flying somewhere takes too much time.\\n\""
          },
          "metadata": {}
        }
      ]
    },
    {
      "cell_type": "markdown",
      "source": [
        "Separar los encabezados (headers) de los cuerpos del mensaje"
      ],
      "metadata": {
        "id": "RXfEDpCPgzAf"
      }
    },
    {
      "cell_type": "code",
      "source": [
        "import email\n",
        "\n",
        "def extract_messages(df):\n",
        "    messages = []\n",
        "    for item in df[\"message\"]:\n",
        "        # Regresar una estructura de objeto de mensaje a partir de un string\n",
        "        e = email.message_from_string(item)\n",
        "        # obtener el cuerpo del mensaje\n",
        "        message_body = e.get_payload()\n",
        "        messages.append(message_body)\n",
        "    print(\"¡Se recuperó existosamente el cuerpo del mensaje a partir de los e-mails!\")\n",
        "    return messages\n",
        "\n",
        "#2) EXTRAIGA LOS MENSAJES DE LOS EMAILS EN UNA LISTA LLAMADA bodies, usando la función anterior\n",
        "bodies = []\n",
        "bodies = extract_messages(emails)"
      ],
      "metadata": {
        "execution": {
          "iopub.status.busy": "2024-09-19T22:39:48.328156Z",
          "iopub.execute_input": "2024-09-19T22:39:48.328558Z",
          "iopub.status.idle": "2024-09-19T22:41:06.20893Z",
          "shell.execute_reply.started": "2024-09-19T22:39:48.328518Z",
          "shell.execute_reply": "2024-09-19T22:41:06.207523Z"
        },
        "trusted": true,
        "id": "Fng_DMCegzAg",
        "outputId": "27d52e7e-9948-40a8-e7db-ab18c3e2b23f"
      },
      "execution_count": null,
      "outputs": [
        {
          "name": "stdout",
          "text": "¡Se recuperó existosamente el cuerpo del mensaje a partir de los e-mails!\n",
          "output_type": "stream"
        }
      ]
    },
    {
      "cell_type": "code",
      "source": [
        "##3) GENERE UN DATAFRAME LLAMADO bodies_df UTILIZANDO LA BIBLIOTECA PANDAS, EL CUAL DEBE CONTENER UNA MUESTRA ALEATORIA DE 10,000 ELEMENTOS DE LA LISTA BODIES.\n",
        "##USE LA FUNCIÓN RANDOM.SAMPLE PARA OBTENER LA MUESTRA. ESTO PERMITE CREAR NUESTRO PROPIO DATASET\n",
        "import random\n",
        "\n",
        "bodies_df = pd.DataFrame(random.sample(bodies,10000))\n",
        "\n",
        "#expandir las opciones de display default de pandas para hacer los emails más claramente visibles cuando se impriman\n",
        "pd.set_option('display.max_colwidth', 300)\n",
        "\n",
        "bodies_df.head() # podrían hacer print(bodies_df.head()), pero Jupyter despliega más amigable for pandas DataFrames"
      ],
      "metadata": {
        "execution": {
          "iopub.status.busy": "2024-09-19T22:41:06.210473Z",
          "iopub.execute_input": "2024-09-19T22:41:06.210895Z",
          "iopub.status.idle": "2024-09-19T22:41:06.238482Z",
          "shell.execute_reply.started": "2024-09-19T22:41:06.210853Z",
          "shell.execute_reply": "2024-09-19T22:41:06.237089Z"
        },
        "trusted": true,
        "id": "csKtLRt8gzAg",
        "outputId": "5946d610-8019-48c8-b24c-cd532259b8ab"
      },
      "execution_count": null,
      "outputs": [
        {
          "execution_count": 8,
          "output_type": "execute_result",
          "data": {
            "text/plain": "                                                                                                                                                                                                                                                                                                             0\n0  Raymond,\\n\\nThank you for your note.  It would be great if you could be ready to roll-o=\\nut=20\\nKorean Weather in the near future.   It would be tough to sell Weather=20\\nDerivatives in Korea, but the early move can be positive for us especially=\\n=20\\nbecause K-Weather, a local weather forecas...\n1  Mark,\\n\\nListed below are the goals i initially submitted for your group for 2001. =\\n=20\\nPlease take a moment and review, change and add details to make it more=20\\nclear.  These worked for step 1 but i now need more detail - e.g. describe=\\n=20\\nyour long term transactions again.  Please amen...\n2  Attached is the Enron Americas GasTrading violation memos for  Maturity Gap \\nRisk and VaR for June 15, 2001.  The Office of the Chairman for Enron \\nAmericas is responsible for printing out a hard copy of this memo, signing it \\nand returning the hard copy to Chris Abel at 3155a, who will forwa...\n3  ?\\tWe met with Edison yesterday in the attempt to settle our negative CTC claim.\\n?\\tEdison continues to take a very hard-line, extreme position.  This is it in a nutshell:\\n1.\\tall customers--bundled and DA alike--\"contributed to Edison's undercollection\" and all customers must pay it down; \\n2...\n4  It will be fine to use current +1 as the cutoff.\\n\\nD\\n\\n\\n   \\n\\tEnron North America Corp.\\n\\t\\n\\tFrom:  Brenda F Herod                           12/20/99 08:24 AM\\n\\t\\n\\nTo: Daren J Farmer/HOU/ECT@ECT, Mary M Smith/HOU/ECT@ECT, Pat \\nClynes/Corp/Enron@ENRON\\ncc:  \\nSubject: Re: purge of old Co...",
            "text/html": "<div>\n<style scoped>\n    .dataframe tbody tr th:only-of-type {\n        vertical-align: middle;\n    }\n\n    .dataframe tbody tr th {\n        vertical-align: top;\n    }\n\n    .dataframe thead th {\n        text-align: right;\n    }\n</style>\n<table border=\"1\" class=\"dataframe\">\n  <thead>\n    <tr style=\"text-align: right;\">\n      <th></th>\n      <th>0</th>\n    </tr>\n  </thead>\n  <tbody>\n    <tr>\n      <th>0</th>\n      <td>Raymond,\\n\\nThank you for your note.  It would be great if you could be ready to roll-o=\\nut=20\\nKorean Weather in the near future.   It would be tough to sell Weather=20\\nDerivatives in Korea, but the early move can be positive for us especially=\\n=20\\nbecause K-Weather, a local weather forecas...</td>\n    </tr>\n    <tr>\n      <th>1</th>\n      <td>Mark,\\n\\nListed below are the goals i initially submitted for your group for 2001. =\\n=20\\nPlease take a moment and review, change and add details to make it more=20\\nclear.  These worked for step 1 but i now need more detail - e.g. describe=\\n=20\\nyour long term transactions again.  Please amen...</td>\n    </tr>\n    <tr>\n      <th>2</th>\n      <td>Attached is the Enron Americas GasTrading violation memos for  Maturity Gap \\nRisk and VaR for June 15, 2001.  The Office of the Chairman for Enron \\nAmericas is responsible for printing out a hard copy of this memo, signing it \\nand returning the hard copy to Chris Abel at 3155a, who will forwa...</td>\n    </tr>\n    <tr>\n      <th>3</th>\n      <td>?\\tWe met with Edison yesterday in the attempt to settle our negative CTC claim.\\n?\\tEdison continues to take a very hard-line, extreme position.  This is it in a nutshell:\\n1.\\tall customers--bundled and DA alike--\"contributed to Edison's undercollection\" and all customers must pay it down; \\n2...</td>\n    </tr>\n    <tr>\n      <th>4</th>\n      <td>It will be fine to use current +1 as the cutoff.\\n\\nD\\n\\n\\n   \\n\\tEnron North America Corp.\\n\\t\\n\\tFrom:  Brenda F Herod                           12/20/99 08:24 AM\\n\\t\\n\\nTo: Daren J Farmer/HOU/ECT@ECT, Mary M Smith/HOU/ECT@ECT, Pat \\nClynes/Corp/Enron@ENRON\\ncc:  \\nSubject: Re: purge of old Co...</td>\n    </tr>\n  </tbody>\n</table>\n</div>"
          },
          "metadata": {}
        }
      ]
    },
    {
      "cell_type": "markdown",
      "source": [
        "El siguiente código (comentado) es posiblemente la forma más al estilo Python de lograr la extracción de los cuerpos de los mensajes. Tiene solo 2 líneas y logra el mismo resultado. Sin embargo, creemos que el código anterior es más transparente con respecto a cómo se lleva a cabo el procesamiento y, como tal, lo dejamos aquí para los expertos en Python si así lo prefieren."
      ],
      "metadata": {
        "id": "xcRdRt6ogzAh"
      }
    },
    {
      "cell_type": "code",
      "source": [
        "#messages = emails[\"message\"].apply(email.message_from_string)\n",
        "#bodies_df = messages.apply(lambda x: x.get_payload()).sample(10000)"
      ],
      "metadata": {
        "execution": {
          "iopub.status.busy": "2024-09-19T22:41:06.239906Z",
          "iopub.execute_input": "2024-09-19T22:41:06.240402Z",
          "iopub.status.idle": "2024-09-19T22:41:06.251489Z",
          "shell.execute_reply.started": "2024-09-19T22:41:06.240349Z",
          "shell.execute_reply": "2024-09-19T22:41:06.250238Z"
        },
        "trusted": true,
        "id": "mcrdyFMQgzAh"
      },
      "execution_count": null,
      "outputs": []
    },
    {
      "cell_type": "markdown",
      "source": [
        "# Lea y Preprocese el Corpus de Email Fraudulent \"419\""
      ],
      "metadata": {
        "id": "-Q-nExZWgzAh"
      }
    },
    {
      "cell_type": "code",
      "source": [
        "filepath = \"/kaggle/input/fraudulent-email-corpus/fradulent_emails.txt\"\n",
        "with open(filepath, 'r',encoding=\"latin1\") as file:\n",
        "    data = file.read()"
      ],
      "metadata": {
        "execution": {
          "iopub.status.busy": "2024-09-19T22:41:06.253079Z",
          "iopub.execute_input": "2024-09-19T22:41:06.253548Z",
          "iopub.status.idle": "2024-09-19T22:41:06.436692Z",
          "shell.execute_reply.started": "2024-09-19T22:41:06.253506Z",
          "shell.execute_reply": "2024-09-19T22:41:06.43535Z"
        },
        "trusted": true,
        "id": "b1FtpUEugzAi"
      },
      "execution_count": null,
      "outputs": []
    },
    {
      "cell_type": "markdown",
      "source": [
        "Imprima los primeros 20000 caracteres de read file string (esto nos da unos pocos emails), y dése cuenta del keyword `From r` cercano al inicio de cada encabezado de email"
      ],
      "metadata": {
        "id": "kcC6RpvAgzAi"
      }
    },
    {
      "cell_type": "code",
      "source": [
        "print(data[:20000])"
      ],
      "metadata": {
        "execution": {
          "iopub.status.busy": "2024-09-19T22:41:06.438246Z",
          "iopub.execute_input": "2024-09-19T22:41:06.438732Z",
          "iopub.status.idle": "2024-09-19T22:41:06.447318Z",
          "shell.execute_reply.started": "2024-09-19T22:41:06.438679Z",
          "shell.execute_reply": "2024-09-19T22:41:06.445852Z"
        },
        "trusted": true,
        "id": "vEKEt8NGgzAi",
        "outputId": "635c09ac-40bf-4c76-a266-663d48aa28d2"
      },
      "execution_count": null,
      "outputs": [
        {
          "name": "stdout",
          "text": "From r  Wed Oct 30 21:41:56 2002\nReturn-Path: <james_ngola2002@maktoob.com>\nX-Sieve: cmu-sieve 2.0\nReturn-Path: <james_ngola2002@maktoob.com>\nMessage-Id: <200210310241.g9V2fNm6028281@cs.CU>\nFrom: \"MR. JAMES NGOLA.\" <james_ngola2002@maktoob.com>\nReply-To: james_ngola2002@maktoob.com\nTo: webmaster@aclweb.org\nDate: Thu, 31 Oct 2002 02:38:20 +0000\nSubject: URGENT BUSINESS ASSISTANCE AND PARTNERSHIP\nX-Mailer: Microsoft Outlook Express 5.00.2919.6900 DM\nMIME-Version: 1.0\nContent-Type: text/plain; charset=\"us-ascii\"\nContent-Transfer-Encoding: 8bit\nX-MIME-Autoconverted: from quoted-printable to 8bit by sideshowmel.si.UM id g9V2foW24311\nStatus: O\n\nFROM:MR. JAMES NGOLA.\nCONFIDENTIAL TEL: 233-27-587908.\nE-MAIL: (james_ngola2002@maktoob.com).\n\nURGENT BUSINESS ASSISTANCE AND PARTNERSHIP.\n\n\nDEAR FRIEND,\n\nI AM ( DR.) JAMES NGOLA, THE PERSONAL ASSISTANCE TO THE LATE CONGOLESE (PRESIDENT LAURENT KABILA) WHO WAS ASSASSINATED BY HIS BODY GUARD ON 16TH JAN. 2001.\n\n\nTHE INCIDENT OCCURRED IN OUR PRESENCE WHILE WE WERE HOLDING MEETING WITH HIS EXCELLENCY OVER THE FINANCIAL RETURNS FROM THE DIAMOND SALES IN THE AREAS CONTROLLED BY (D.R.C.) DEMOCRATIC REPUBLIC OF CONGO FORCES AND THEIR FOREIGN ALLIES ANGOLA AND ZIMBABWE, HAVING RECEIVED THE PREVIOUS DAY (USD$100M) ONE HUNDRED MILLION UNITED STATES DOLLARS, CASH IN THREE DIPLOMATIC BOXES ROUTED THROUGH ZIMBABWE.\n\nMY PURPOSE OF WRITING YOU THIS LETTER IS TO SOLICIT FOR YOUR ASSISTANCE AS TO BE A COVER TO THE FUND AND ALSO COLLABORATION IN MOVING THE SAID FUND INTO YOUR BANK ACCOUNT THE SUM OF (USD$25M) TWENTY FIVE MILLION UNITED STATES DOLLARS ONLY, WHICH I DEPOSITED WITH A SECURITY COMPANY IN GHANA, IN A DIPLOMATIC BOX AS GOLDS WORTH (USD$25M) TWENTY FIVE MILLION UNITED STATES DOLLARS ONLY FOR SAFE KEEPING IN A SECURITY VAULT FOR ANY FURTHER INVESTMENT PERHAPS IN YOUR COUNTRY. \n\nYOU WERE INTRODUCED TO ME BY A RELIABLE FRIEND OF MINE WHO IS A TRAVELLER,AND ALSO A MEMBER OF CHAMBER OF COMMERCE AS A RELIABLE AND TRUSTWORTHY PERSON WHOM I CAN RELY ON AS FOREIGN PARTNER, EVEN THOUGH THE NATURE OF THE TRANSACTION WAS NOT REVEALED TO HIM FOR SECURITY REASONS.\n\n\nTHE (USD$25M) WAS PART OF A PROCEEDS FROM DIAMOND TRADE MEANT FOR THE LATE PRESIDENT LAURENT KABILA WHICH WAS DELIVERED THROUGH ZIMBABWE IN DIPLOMATIC BOXES. THE BOXES WERE KEPT UNDER MY CUSTODY BEFORE THE SAD EVENT THAT TOOK THE LIFE OF (MR. PRESIDENT).THE CONFUSION THAT ENSUED AFTER THE ASSASSINATION AND THE SPORADIC SHOOTING AMONG THE FACTIONS, I HAVE TO RUN AWAY FROM THE COUNTRY FOR MY DEAR LIFE AS I AM NOT A SOLDIER BUT A CIVIL SERVANT I CROSSED RIVER CONGO TO OTHER SIDE OF CONGO LIBREVILLE FROM THERE I MOVED TO THE THIRD COUNTRY GHANA WHERE I AM PRESENTLY TAKING REFUGE. \n\nAS A MATTER OF FACT, WHAT I URGENTLY NEEDED FROM YOU IS YOUR ASSISTANCE IN MOVING THIS MONEY INTO YOUR ACCOUNT IN YOUR COUNTRY FOR INVESTMENT WITHOUT RAISING EYEBROW. FOR YOUR ASSISTANCE I WILL GIVE YOU 20% OF THE TOTAL SUM AS YOUR OWN SHARE WHEN THE MONEY GETS TO YOUR ACCOUNT, WHILE 75% WILL BE FOR ME, OF WHICH WITH YOUR KIND ADVICE I HOPE TO INVEST IN PROFITABLE VENTURE IN YOUR COUNTRY IN OTHER TO SETTLE DOWN FOR MEANINGFUL LIFE, AS I AM TIRED OF LIVING IN A WAR ENVIRONMENT. \n\nTHE REMAINING 5% WILL BE USED TO OFFSET ANY COST INCURRED IN THE CAUSE OF MOVING THE MONEY TO YOUR ACCOUNT. IF THE PROPOSAL IS ACCEPTABLE TO YOU PLEASE CONTACT ME IMMEDIATELY THROUGH THE ABOVE TELEPHONE AND E-MAIL, TO ENABLE ME ARRANGE FACE TO FACE MEETING WITH YOU IN GHANA FOR THE CLEARANCE OF THE FUNDS BEFORE TRANSFRING IT TO YOUR BANK ACCOUNT AS SEEING IS BELIEVING. \n\nFINALLY, IT IS IMPORTANT ALSO THAT I LET YOU UNDERSTAND THAT THERE IS NO RISK INVOLVED WHATSOEVER AS THE MONEY HAD NO RECORD IN KINSHASA FOR IT WAS MEANT FOR THE PERSONAL USE OF (MR. PRESIDEND ) BEFORE THE NEFARIOUS INCIDENT OCCURRED, AND ALSO I HAVE ALL THE NECESSARY DOCUMENTS AS REGARDS TO THE FUNDS INCLUDING THE (CERTIFICATE OF DEPOSIT), AS I AM THE DEPOSITOR OF THE CONSIGNMENT.\n\n\nLOOKING FORWARD TO YOUR URGENT RESPONSE.\n\nYOUR SINCERELY,\n\nMR. JAMES NGOLA. \n\n\n\n\n\n\n\n\n\n\nFrom r  Thu Oct 31 08:11:39 2002\nReturn-Path: <bensul2004nng@spinfinder.com>\nX-Sieve: cmu-sieve 2.0\nReturn-Path: <bensul2004nng@spinfinder.com>\nMessage-Id: <200210311310.g9VDANt24674@bloodwork.mr.itd.UM>\nFrom: \"Mr. Ben Suleman\" <bensul2004nng@spinfinder.com>\nDate: Thu, 31 Oct 2002 05:10:00\nTo: R@M\nSubject: URGENT ASSISTANCE /RELATIONSHIP (P)\nMIME-Version: 1.0\nContent-Type: text/plain;charset=\"iso-8859-1\"\nContent-Transfer-Encoding: 7bit\nStatus: O\n\nDear Friend,\n\nI am Mr. Ben Suleman a custom officer and work as Assistant controller of the Customs and Excise department Of the Federal Ministry of Internal Affairs stationed at the Murtala Mohammed International Airport, Ikeja, Lagos-Nigeria.\n\nAfter the sudden death of the former Head of state of Nigeria General Sanni Abacha on June 8th 1998 his aides and immediate members of his family were arrested while trying to escape from Nigeria in a Chartered jet to Saudi Arabia with 6 trunk boxes Marked \"Diplomatic Baggage\". Acting on a tip-off as they attempted to board the Air Craft,my officials carried out a thorough search on the air craft and discovered that the 6 trunk boxes contained foreign currencies amounting to US$197,570,000.00(One Hundred and  Ninety-Seven Million Five Hundred Seventy Thousand United States Dollars).\n\nI declared only (5) five boxes to the government and withheld one (1) in my custody containing the sum of (US$30,000,000.00) Thirty Million United States Dollars Only, which has been disguised to prevent their being discovered during transportation process.Due to several media reports on the late head of state about all the money him and his co-government officials stole from our government treasury amounting\nto US$55 Billion Dollars (ref:ngrguardiannews.com) of July 2nd 1999. Even the London times of July 1998 reported that General Abacha has over US$3.Billion dollars in one account overseas. We decided to conceal this one (1)box till the situation is calm and quite on the issue. The box was thus deposited with a security company here in Nigeria and tagged as \"Precious Stones and Jewellry\" in other that its\ncontent will not be discovered. Now that all is calm, we (myself and two of my colleagues in the operations team) are now ready to move this box out of the country through a diplomatic arrangement which is the safest means. \n\nHowever as government officials the Civil Service Code of Conduct does not allow us by law to operate any foreign account or own foreign investment and the amount of money that can be found in our account\ncannot be more than our salary on the average, thus our handicapp and our need for your assistance to help collect and keep safely in your account this money.\n\nTherefore we want you to assist us in moving this money out of Nigeria. We shall definitely compensate you handsomely for the assistance. We can do this by instructing the Security Company here in Nigeria to\nmove the consignment to their affiliate branch office outside Nigeria through diplomatic means and the consignment will be termed as Precious Stones and Jewelleries\" which you bought during your visit to Nigeria and is being transfered to your country from here for safe keeping. Then we can arrange to meet at the destination country to take the delivery of the consignment. You will thereafter open an account there and lodge the Money there and gradually instruct remittance to your Country. \n\nThis business is 100% risk free for you so please treat this matter with utmost confidentiality .If you indicate your interest to assist us please just e-mail me for more Explanation on how we plan to execute the transaction.\n\nExpecting your response urgently.\n\nBest regards,\n\nMr. Ben Suleman\n\nFrom r  Thu Oct 31 17:27:16 2002\nReturn-Path: <obong_715@epatra.com>\nX-Sieve: cmu-sieve 2.0\nReturn-Path: <obong_715@epatra.com>\nMessage-Id: <200210312227.g9VMQvDj017948@bluewhale.cs.CU>\nFrom: \"PRINCE OBONG ELEME\" <obong_715@epatra.com>\nReply-To: obong_715@epatra.com\nTo: webmaster@aclweb.org\nDate: Thu, 31 Oct 2002 22:17:55 +0100\nSubject: GOOD DAY TO YOU\nX-Mailer: Microsoft Outlook Express 5.00.2919.6900DM\nMIME-Version: 1.0\nContent-Type: text/plain; charset=\"us-ascii\"\nContent-Transfer-Encoding: 8bit\nX-MIME-Autoconverted: from quoted-printable to 8bit by sideshowmel.si.UM id g9VMRBW20642\nStatus: RO\n\nFROM HIS ROYAL MAJESTY (HRM) CROWN RULER OF ELEME KINGDOM \nCHIEF DANIEL ELEME, PHD, EZE 1 OF ELEME.E-MAIL \nADDRESS:obong_715@epatra.com  \n\nATTENTION:PRESIDENT,CEO Sir/ Madam. \n\nThis letter might surprise you because we have met\nneither in person nor by correspondence. But I believe\nit is one day that you got to know somebody either in\nphysical or through correspondence. \n\nI got your contact through discreet inquiry from the\nchambers of commerce and industry of your country on\nthe net, you and your organization were revealed as\nbeing quite astute in private entrepreneurship, one\nhas no doubt in your ability to handle a financialbusiness transaction. \n\nHowever, I am the first son of His Royal\nmajesty,Obong.D. Eleme , and the traditional Ruler of\nEleme Province in the oil producing area of River\nState of Nigeria. I am making this contact to you in\nrespect of US$60,000,000.00 (Sixty Million United\nState Dollars), which I inherited, from my latefather. \n\nThis money was accumulated from royalties paid to my\nfather as compensation by the oil firms located in our\narea as a result of oil presence on our land, which\nhamper agriculture, which is our major source oflivelihood. \n\nUnfortunately my father died from protracted\ndiabetes.But before his death he called my attention\nand informed me that he lodged some funds on a two\nboxes with a security firm with an open beneficiary\nstatus. The lodgment security code number was also\nrevealed to me, he then advised me to look for a\nreliable business partner abroad, that will assist me\nin investing the money in a lucrative business as a\nresult of economic instability in Nigeria. So this is\nthe main reason why I am contacting you for us to move\nthis money from the security firm to any Country of\nyour choice for investment purpose. \n\nSo I will like you to be the ultimate beneficiary, so\nthat the funds can be moved in your name and\nparticulars to any Country of your choice where it\nwill be claimed and invested. Hence my father have had\nintimated the security firm personnel that the\nbeneficiary of the box is his foreign partner whose\nparticulars will be forwarded to the firm when due. \n\nBut I will guide you Accordingly. As soon as the funds\nreach, I will then come over to meet you in person, so\nthat we can discuss physically on investment\npotentials. Based on this assistance my Family and I\nhave unanimously decided to give you 30% of the total\nmoney, 5% for Charity home, 10% for expenses, which\nmay arise during this transaction, Fax and phone bills\ninclusive. The balance of 55% you will invest andmanaged for my Family. \n\nI hereby guarantee you that this is not government\nmoney, it is not drug money and it is not money from\narms deal. Though you have to maintain high degree of\nconfidentiality on this matter. I will give more\ndetails about the proceedings of this transaction as\nsoon as I receive your favorable reply. \n\nPlease reply to my Email Address:obong_715@epatra.com\nI hope this will be the beginning of a prosperous\nrelationship between my family and your family. \n\nNevertheless if you are for any reason not interested,\nkindly inform me immediately so that I will look foranother contact. \n\nI am waiting for your quick response. \n\nYours faithfully, \n\nPrince Obong Abbot \n\n\nFrom r  Thu Oct 31 17:53:56 2002\nReturn-Path: <obong_715@epatra.com>\nX-Sieve: cmu-sieve 2.0\nReturn-Path: <obong_715@epatra.com>\nMessage-Id: <200210312253.g9VMreDj018024@bluewhale.cs.CU>\nFrom: \"PRINCE OBONG ELEME\" <obong_715@epatra.com>\nDate: Thu, 31 Oct 2002 22:44:20\nTo: webmaster@aclweb.org\nSubject: GOOD DAY TO YOU\nMIME-Version: 1.0\nContent-Type: text/plain;charset=\"iso-8859-1\"\nContent-Transfer-Encoding: 7bit\nStatus: RO\n\nFROM HIS ROYAL MAJESTY (HRM) CROWN RULER OF ELEME KINGDOM \nCHIEF DANIEL ELEME, PHD, EZE 1 OF ELEME.E-MAIL \nADDRESS:obong_715@epatra.com  \n\nATTENTION:PRESIDENT,CEO Sir/ Madam. \n\nThis letter might surprise you because we have met\nneither in person nor by correspondence. But I believe\nit is one day that you got to know somebody either in\nphysical or through correspondence. \n\nI got your contact through discreet inquiry from the\nchambers of commerce and industry of your country on\nthe net, you and your organization were revealed as\nbeing quite astute in private entrepreneurship, one\nhas no doubt in your ability to handle a financialbusiness transaction. \n\nHowever, I am the first son of His Royal\nmajesty,Obong.D. Eleme , and the traditional Ruler of\nEleme Province in the oil producing area of River\nState of Nigeria. I am making this contact to you in\nrespect of US$60,000,000.00 (Sixty Million United\nState Dollars), which I inherited, from my latefather. \n\nThis money was accumulated from royalties paid to my\nfather as compensation by the oil firms located in our\narea as a result of oil presence on our land, which\nhamper agriculture, which is our major source oflivelihood. \n\nUnfortunately my father died from protracted\ndiabetes.But before his death he called my attention\nand informed me that he lodged some funds on a two\nboxes with a security firm with an open beneficiary\nstatus. The lodgment security code number was also\nrevealed to me, he then advised me to look for a\nreliable business partner abroad, that will assist me\nin investing the money in a lucrative business as a\nresult of economic instability in Nigeria. So this is\nthe main reason why I am contacting you for us to move\nthis money from the security firm to any Country of\nyour choice for investment purpose. \n\nSo I will like you to be the ultimate beneficiary, so\nthat the funds can be moved in your name and\nparticulars to any Country of your choice where it\nwill be claimed and invested. Hence my father have had\nintimated the security firm personnel that the\nbeneficiary of the box is his foreign partner whose\nparticulars will be forwarded to the firm when due. \n\nBut I will guide you Accordingly. As soon as the funds\nreach, I will then come over to meet you in person, so\nthat we can discuss physically on investment\npotentials. Based on this assistance my Family and I\nhave unanimously decided to give you 30% of the total\nmoney, 5% for Charity home, 10% for expenses, which\nmay arise during this transaction, Fax and phone bills\ninclusive. The balance of 55% you will invest andmanaged for my Family. \n\nI hereby guarantee you that this is not government\nmoney, it is not drug money and it is not money from\narms deal. Though you have to maintain high degree of\nconfidentiality on this matter. I will give more\ndetails about the proceedings of this transaction as\nsoon as I receive your favorable reply. \n\nPlease reply to my Email Address:obong_715@epatra.com\nI hope this will be the beginning of a prosperous\nrelationship between my family and your family. \n\nNevertheless if you are for any reason not interested,\nkindly inform me immediately so that I will look foranother contact. \n\nI am waiting for your quick response. \n\nYours faithfully, \n\nPrince Obong Eleme\n\nFrom r  Fri Nov  1 04:48:39 2002\nReturn-Path: <m_abacha03@www.com>\nX-Sieve: cmu-sieve 2.0\nReturn-Path: <m_abacha03@www.com>\nMessage-Id: <200211010948.gA19mLu22932@perfectworld.mr.itd.UM>\nFrom: \"Maryam Abacha\" <m_abacha03@www.com>\nReply-To: m_abacha03@www.com\nTo: R@M\nDate: Fri, 1 Nov 2002 01:45:04 +0100\nSubject: I Need Your Assistance.\nX-Mailer: Microsoft Outlook Express 5.00.2919.6900 DM\nMIME-Version: 1.0\nContent-Type: text/plain; charset=\"us-ascii\"\nContent-Transfer-Encoding: 8bit\nX-MIME-Autoconverted: from quoted-printable to 8bit by sideshowmel.si.UM id gA19mVW29040\nStatus: RO\n\nDear sir, \n \nIt is with a heart full of hope that I write to seek your help in respect of the context below. I am Mrs. Maryam Abacha the former first lady of the former Military Head of State of Nigeria General Sani Abacha whose sudden death occurred on 8th of June 1998 as a result of cardiac arrest (heart attack) while on the seat of power. \nI have no doubt about your capability and good-will to assist me in receiving into your custody (for safety) the sum of US$25 Million willed and deposited in my favour by my late husband in a security and deposit company. Though my contact to you for this assistance is not anchored on any personal ecommendation, I pray your understanding, good will and sincere assistance to respond to this message with honest intensions and concern. \nThis money is currently deposited here with a security company as miscellaneous awaiting collection and according to the agreement entered into at the time of deposit between my late husband and the Security Company at the time of deposit; the collection centre is in Ghana. As it is legally required, the administration of my late husband's properties is under the authority of the family's lawyer Tony Musa. \n \nMy Dear JK, since the demise of my husband, the present regime has been probing my late husband's wealth and properties, the London Newsweek of 13th march 2000 referred. The investigating team led by Enrico Monfrini, the lawyer acting on behalf of the Nigerian government has so far submitted their report and presently, some liquid cash and assets, movable and immovable, have been frozen and seized both locally here and internationally and my last hope is rested on the immediate security of this fund in your custody. Also, Johnnie Cochran, the lawyer who defended OJ Simpson, has been brought in by the Abacha entourage to help them retain the disputed funds. Fortunately, our family lawyer had secretly protected the \"Personal will\" of my husband from the notice of the investigators and have strictly advised that the willed money be urgently moved into an overseas account of Trusted Foreign family friend without delay. For security reasons and f!\nurther advise,! no relations or fr! \niends of ours should be used; as this is a measure of security. The government had earlier placed foreign travel embargo on all our family members and seized all known local and International outfits of our business empire. \nThe situation has been so terrible that we are virtually living on the assistance of well-wishers. In view of this plight, I expect you to be trustworthy and kind enough to respond to this \"SOS\" call to save my children and I from a hopeless future. \nI hereby agree to compensate your sincere and candid effort, immensely, which will be discussed between you, the Attorney and I. On your immediate response, the Attorney will travel to Ghana where both of you will meet, and thereafter proceed to the deposit company for the claims. \nThe documentations include, most importantly, Power of Attorney and Certificate of Deposit amongst few others. These documents will be sent to you by Fax, as you would have to present them for proper claims. \nPlease, be rest assured that this transaction is completely safe and legal but must be kept strictly to yourself even after the funds have been secured into our custody. This is so because any leakage of information could ruin the whole transaction. \nPlease all contacts must be made through my lawyer on his email: tony_m@lawyer.com This has to be so as he has been mandated to handle this matter and I have fully briefed him (my Attorney) on my contact to you. Due to my present circumstance, I have handed everything over to him to co - ordinate and finalize with you and I will communicate you as at when necessary. Please for the safety of this transaction, reply stating your phone and fax numbers to enable them contact you directly without running the risk of mail interception. \nI look forward to your quick response. \nBest Wishes, \nMrs. Maryam Abacha \n \n\n\nFrom r  Sat Nov  2 00:18:06 2002\nReturn-Path: <davidkuta@postmark.net>\nX-Sieve: cmu-sieve 2.0\nReturn-Path: <davidkut\n",
          "output_type": "stream"
        }
      ]
    },
    {
      "cell_type": "markdown",
      "source": [
        "Dividir en la palabra clave `From r` que aparece cerca del comienzo de cada correo electrónico"
      ],
      "metadata": {
        "id": "P83VDHebgzAi"
      }
    },
    {
      "cell_type": "code",
      "source": [
        "fraud_emails = data.split(\"From r\")\n",
        "\n",
        "print(\"¡Cargó exitosamente {} emails de spam!\".format(len(fraud_emails)))"
      ],
      "metadata": {
        "execution": {
          "iopub.status.busy": "2024-09-19T22:41:06.449119Z",
          "iopub.execute_input": "2024-09-19T22:41:06.449524Z",
          "iopub.status.idle": "2024-09-19T22:41:06.479741Z",
          "shell.execute_reply.started": "2024-09-19T22:41:06.449473Z",
          "shell.execute_reply": "2024-09-19T22:41:06.478384Z"
        },
        "trusted": true,
        "id": "C-rbcb_2gzAi",
        "outputId": "ed797494-b419-4434-b9f6-7f49bcee3507"
      },
      "execution_count": null,
      "outputs": [
        {
          "name": "stdout",
          "text": "¡Cargó exitosamente 3978 emails de spam!\n",
          "output_type": "stream"
        }
      ]
    },
    {
      "cell_type": "code",
      "source": [
        "fraud_bodies = extract_messages(pd.DataFrame(fraud_emails,columns=[\"message\"],dtype=str))\n",
        "fraud_bodies_df = pd.DataFrame(fraud_bodies[1:])\n",
        "\n",
        "fraud_bodies_df.head() # podrías hacer print(fraud_bodies_df.head()), pero Jupyter despliega esto mejor para pandas DataFrames"
      ],
      "metadata": {
        "execution": {
          "iopub.status.busy": "2024-09-19T22:41:06.503912Z",
          "iopub.execute_input": "2024-09-19T22:41:06.504462Z",
          "iopub.status.idle": "2024-09-19T22:41:07.712881Z",
          "shell.execute_reply.started": "2024-09-19T22:41:06.504422Z",
          "shell.execute_reply": "2024-09-19T22:41:07.711605Z"
        },
        "trusted": true,
        "id": "OFPtLoFPgzAj",
        "outputId": "484cf1f6-5110-4027-e262-6fd32e219bd9"
      },
      "execution_count": null,
      "outputs": [
        {
          "name": "stdout",
          "text": "¡Se recuperó existosamente el cuerpo del mensaje a partir de los e-mails!\n",
          "output_type": "stream"
        },
        {
          "execution_count": 13,
          "output_type": "execute_result",
          "data": {
            "text/plain": "                                                                                                                                                                                                                                                                                                             0\n0  FROM:MR. JAMES NGOLA.\\nCONFIDENTIAL TEL: 233-27-587908.\\nE-MAIL: (james_ngola2002@maktoob.com).\\n\\nURGENT BUSINESS ASSISTANCE AND PARTNERSHIP.\\n\\n\\nDEAR FRIEND,\\n\\nI AM ( DR.) JAMES NGOLA, THE PERSONAL ASSISTANCE TO THE LATE CONGOLESE (PRESIDENT LAURENT KABILA) WHO WAS ASSASSINATED BY HIS BODY G...\n1  Dear Friend,\\n\\nI am Mr. Ben Suleman a custom officer and work as Assistant controller of the Customs and Excise department Of the Federal Ministry of Internal Affairs stationed at the Murtala Mohammed International Airport, Ikeja, Lagos-Nigeria.\\n\\nAfter the sudden death of the former Head of s...\n2  FROM HIS ROYAL MAJESTY (HRM) CROWN RULER OF ELEME KINGDOM \\nCHIEF DANIEL ELEME, PHD, EZE 1 OF ELEME.E-MAIL \\nADDRESS:obong_715@epatra.com  \\n\\nATTENTION:PRESIDENT,CEO Sir/ Madam. \\n\\nThis letter might surprise you because we have met\\nneither in person nor by correspondence. But I believe\\nit is...\n3  FROM HIS ROYAL MAJESTY (HRM) CROWN RULER OF ELEME KINGDOM \\nCHIEF DANIEL ELEME, PHD, EZE 1 OF ELEME.E-MAIL \\nADDRESS:obong_715@epatra.com  \\n\\nATTENTION:PRESIDENT,CEO Sir/ Madam. \\n\\nThis letter might surprise you because we have met\\nneither in person nor by correspondence. But I believe\\nit is...\n4  Dear sir, \\n \\nIt is with a heart full of hope that I write to seek your help in respect of the context below. I am Mrs. Maryam Abacha the former first lady of the former Military Head of State of Nigeria General Sani Abacha whose sudden death occurred on 8th of June 1998 as a result of cardiac ...",
            "text/html": "<div>\n<style scoped>\n    .dataframe tbody tr th:only-of-type {\n        vertical-align: middle;\n    }\n\n    .dataframe tbody tr th {\n        vertical-align: top;\n    }\n\n    .dataframe thead th {\n        text-align: right;\n    }\n</style>\n<table border=\"1\" class=\"dataframe\">\n  <thead>\n    <tr style=\"text-align: right;\">\n      <th></th>\n      <th>0</th>\n    </tr>\n  </thead>\n  <tbody>\n    <tr>\n      <th>0</th>\n      <td>FROM:MR. JAMES NGOLA.\\nCONFIDENTIAL TEL: 233-27-587908.\\nE-MAIL: (james_ngola2002@maktoob.com).\\n\\nURGENT BUSINESS ASSISTANCE AND PARTNERSHIP.\\n\\n\\nDEAR FRIEND,\\n\\nI AM ( DR.) JAMES NGOLA, THE PERSONAL ASSISTANCE TO THE LATE CONGOLESE (PRESIDENT LAURENT KABILA) WHO WAS ASSASSINATED BY HIS BODY G...</td>\n    </tr>\n    <tr>\n      <th>1</th>\n      <td>Dear Friend,\\n\\nI am Mr. Ben Suleman a custom officer and work as Assistant controller of the Customs and Excise department Of the Federal Ministry of Internal Affairs stationed at the Murtala Mohammed International Airport, Ikeja, Lagos-Nigeria.\\n\\nAfter the sudden death of the former Head of s...</td>\n    </tr>\n    <tr>\n      <th>2</th>\n      <td>FROM HIS ROYAL MAJESTY (HRM) CROWN RULER OF ELEME KINGDOM \\nCHIEF DANIEL ELEME, PHD, EZE 1 OF ELEME.E-MAIL \\nADDRESS:obong_715@epatra.com  \\n\\nATTENTION:PRESIDENT,CEO Sir/ Madam. \\n\\nThis letter might surprise you because we have met\\nneither in person nor by correspondence. But I believe\\nit is...</td>\n    </tr>\n    <tr>\n      <th>3</th>\n      <td>FROM HIS ROYAL MAJESTY (HRM) CROWN RULER OF ELEME KINGDOM \\nCHIEF DANIEL ELEME, PHD, EZE 1 OF ELEME.E-MAIL \\nADDRESS:obong_715@epatra.com  \\n\\nATTENTION:PRESIDENT,CEO Sir/ Madam. \\n\\nThis letter might surprise you because we have met\\nneither in person nor by correspondence. But I believe\\nit is...</td>\n    </tr>\n    <tr>\n      <th>4</th>\n      <td>Dear sir, \\n \\nIt is with a heart full of hope that I write to seek your help in respect of the context below. I am Mrs. Maryam Abacha the former first lady of the former Military Head of State of Nigeria General Sani Abacha whose sudden death occurred on 8th of June 1998 as a result of cardiac ...</td>\n    </tr>\n  </tbody>\n</table>\n</div>"
          },
          "metadata": {}
        }
      ]
    },
    {
      "cell_type": "markdown",
      "source": [
        "# Definir funciones de tokenización, eliminación de stop-words y eliminación de puntuación\n",
        "\n",
        "Antes de continuar, debemos decidir cuántas muestras extraer de cada clase. También debemos decidir la cantidad máxima de tokens por correo electrónico y la longitud máxima de cada token. Esto se hace configurando los siguientes hiperparámetros generales"
      ],
      "metadata": {
        "id": "4c8ILE6FgzAj"
      }
    },
    {
      "cell_type": "code",
      "source": [
        "Nsamp = 1000 # número de muestras a generar en cada clase - 'spam', 'not spam'\n",
        "maxtokens = 200 # el número máximo de tokens por documento\n",
        "maxtokenlen = 100 # la longitud máxima de cada token"
      ],
      "metadata": {
        "execution": {
          "iopub.status.busy": "2024-09-19T22:41:07.714319Z",
          "iopub.execute_input": "2024-09-19T22:41:07.714695Z",
          "iopub.status.idle": "2024-09-19T22:41:07.720607Z",
          "shell.execute_reply.started": "2024-09-19T22:41:07.714655Z",
          "shell.execute_reply": "2024-09-19T22:41:07.719295Z"
        },
        "trusted": true,
        "id": "Bn3qiMC0gzAj"
      },
      "execution_count": null,
      "outputs": []
    },
    {
      "cell_type": "markdown",
      "source": [
        "**Tokenization**"
      ],
      "metadata": {
        "id": "O5FjH4CbgzAj"
      }
    },
    {
      "cell_type": "code",
      "source": [
        "def tokenize(row):\n",
        "    if row is None or row is '':\n",
        "        tokens = \"\"\n",
        "    else:\n",
        "        tokens = str(row).split(\" \")[:maxtokens]\n",
        "    return tokens"
      ],
      "metadata": {
        "execution": {
          "iopub.status.busy": "2024-09-19T22:41:07.722161Z",
          "iopub.execute_input": "2024-09-19T22:41:07.722557Z",
          "iopub.status.idle": "2024-09-19T22:41:07.736263Z",
          "shell.execute_reply.started": "2024-09-19T22:41:07.722516Z",
          "shell.execute_reply": "2024-09-19T22:41:07.734887Z"
        },
        "trusted": true,
        "id": "bNVs-PiGgzAj",
        "outputId": "ddb05c95-3def-4dfa-94c7-96e5b90fc2bb"
      },
      "execution_count": null,
      "outputs": [
        {
          "name": "stderr",
          "text": "<>:2: SyntaxWarning: \"is\" with a literal. Did you mean \"==\"?\n<>:2: SyntaxWarning: \"is\" with a literal. Did you mean \"==\"?\n/tmp/ipykernel_36/3728645439.py:2: SyntaxWarning: \"is\" with a literal. Did you mean \"==\"?\n  if row is None or row is '':\n",
          "output_type": "stream"
        }
      ]
    },
    {
      "cell_type": "markdown",
      "source": [
        "**Usar regular expressions para quitar caracteres no necesarios**\n",
        "\n",
        "Después, definimos una función para eliminar los signos de puntuación y otros caracteres no alfabéticos (usando expresiones regulares) de los correos electrónicos con la ayuda de la omnipresente biblioteca de expresiones regulares de Python. En el mismo paso, truncamos todos los tokens a la hiperparámetro `maxtokenlen` definido anteriormente"
      ],
      "metadata": {
        "id": "p3f-53V9gzAj"
      }
    },
    {
      "cell_type": "code",
      "source": [
        "import re\n",
        "\n",
        "def reg_expressions(row):\n",
        "    tokens = []\n",
        "    try:\n",
        "        for token in row:\n",
        "            #4) ESCRIBA UNA LÍNEA DE CÓDIGO QUE CONVIERTA UNA VARIABLE LLAMADA token A MINÚSCULAS Y ALMACENE EL RESULTADO NUEVAMENTE EN LA MISMA VARIABLE token\n",
        "            token = token.lower()\n",
        "            token = re.sub(r'[\\W\\d]', \"\", token)\n",
        "            #5) TRUNQUE EL TOKEN A LA MÁXIMA LONGITUD ANTES DEFINIDA\n",
        "            token = token[:maxtokenlen]\n",
        "            tokens.append(token)\n",
        "    except:\n",
        "        token = \"\"\n",
        "        tokens.append(token)\n",
        "    return tokens"
      ],
      "metadata": {
        "execution": {
          "iopub.status.busy": "2024-09-19T22:41:07.737695Z",
          "iopub.execute_input": "2024-09-19T22:41:07.738191Z",
          "iopub.status.idle": "2024-09-19T22:41:07.750532Z",
          "shell.execute_reply.started": "2024-09-19T22:41:07.73812Z",
          "shell.execute_reply": "2024-09-19T22:41:07.749279Z"
        },
        "trusted": true,
        "id": "beFGwkfDgzAk"
      },
      "execution_count": null,
      "outputs": []
    },
    {
      "cell_type": "markdown",
      "source": [
        "**Eliminación de Stop-word**\n",
        "\n",
        "Definamos una función para eliminar las stopwords —palabras que ocurren con tanta frecuencia en el lenguaje que no ofrecen información útil para la clasificación. Esto incluye palabras como “the” y “are”, y la popular biblioteca NLTK proporciona una lista ampliamente utilizada que se empleará."
      ],
      "metadata": {
        "id": "nTdGLkvigzAk"
      }
    },
    {
      "cell_type": "code",
      "source": [
        "import nltk\n",
        "\n",
        "nltk.download('stopwords')\n",
        "from nltk.corpus import stopwords\n",
        "stop_words = stopwords.words('english')\n",
        "\n",
        "def stop_word_removal(row):\n",
        "    ###6) CREE UNA NUEVA LISTA LLAMADA TOKEN, QUE CONTENGA SOLO AQUELLOS TOKENS DE ROW QUE NO ESTÉN EN STOPWORDS.\"\n",
        "    token = [word for word in row if word.lower() not in stop_words]\n",
        "    token = filter(None, token)\n",
        "\n",
        "    return token"
      ],
      "metadata": {
        "execution": {
          "iopub.status.busy": "2024-09-19T22:41:07.752205Z",
          "iopub.execute_input": "2024-09-19T22:41:07.753351Z",
          "iopub.status.idle": "2024-09-19T22:41:28.406857Z",
          "shell.execute_reply.started": "2024-09-19T22:41:07.753292Z",
          "shell.execute_reply": "2024-09-19T22:41:28.405719Z"
        },
        "trusted": true,
        "id": "USJy3j81gzAk",
        "outputId": "bc447901-fe95-447b-9bd4-a1c7245b4208"
      },
      "execution_count": null,
      "outputs": [
        {
          "name": "stdout",
          "text": "[nltk_data] Error loading stopwords: <urlopen error [Errno -3]\n[nltk_data]     Temporary failure in name resolution>\n",
          "output_type": "stream"
        }
      ]
    },
    {
      "cell_type": "code",
      "source": [
        "print(stop_words)"
      ],
      "metadata": {
        "execution": {
          "iopub.status.busy": "2024-09-19T22:41:28.408357Z",
          "iopub.execute_input": "2024-09-19T22:41:28.408717Z",
          "iopub.status.idle": "2024-09-19T22:41:28.415064Z",
          "shell.execute_reply.started": "2024-09-19T22:41:28.408671Z",
          "shell.execute_reply": "2024-09-19T22:41:28.413832Z"
        },
        "trusted": true,
        "id": "e2H5hSg5gzAl",
        "outputId": "1123e135-03ac-451e-a1c4-01f6862eae8b"
      },
      "execution_count": null,
      "outputs": [
        {
          "name": "stdout",
          "text": "['i', 'me', 'my', 'myself', 'we', 'our', 'ours', 'ourselves', 'you', \"you're\", \"you've\", \"you'll\", \"you'd\", 'your', 'yours', 'yourself', 'yourselves', 'he', 'him', 'his', 'himself', 'she', \"she's\", 'her', 'hers', 'herself', 'it', \"it's\", 'its', 'itself', 'they', 'them', 'their', 'theirs', 'themselves', 'what', 'which', 'who', 'whom', 'this', 'that', \"that'll\", 'these', 'those', 'am', 'is', 'are', 'was', 'were', 'be', 'been', 'being', 'have', 'has', 'had', 'having', 'do', 'does', 'did', 'doing', 'a', 'an', 'the', 'and', 'but', 'if', 'or', 'because', 'as', 'until', 'while', 'of', 'at', 'by', 'for', 'with', 'about', 'against', 'between', 'into', 'through', 'during', 'before', 'after', 'above', 'below', 'to', 'from', 'up', 'down', 'in', 'out', 'on', 'off', 'over', 'under', 'again', 'further', 'then', 'once', 'here', 'there', 'when', 'where', 'why', 'how', 'all', 'any', 'both', 'each', 'few', 'more', 'most', 'other', 'some', 'such', 'no', 'nor', 'not', 'only', 'own', 'same', 'so', 'than', 'too', 'very', 's', 't', 'can', 'will', 'just', 'don', \"don't\", 'should', \"should've\", 'now', 'd', 'll', 'm', 'o', 're', 've', 'y', 'ain', 'aren', \"aren't\", 'couldn', \"couldn't\", 'didn', \"didn't\", 'doesn', \"doesn't\", 'hadn', \"hadn't\", 'hasn', \"hasn't\", 'haven', \"haven't\", 'isn', \"isn't\", 'ma', 'mightn', \"mightn't\", 'mustn', \"mustn't\", 'needn', \"needn't\", 'shan', \"shan't\", 'shouldn', \"shouldn't\", 'wasn', \"wasn't\", 'weren', \"weren't\", 'won', \"won't\", 'wouldn', \"wouldn't\"]\n",
          "output_type": "stream"
        }
      ]
    },
    {
      "cell_type": "markdown",
      "source": [
        "# Modelo Bag-of-words\n",
        "\n",
        "Para que la computadora pueda hacer inferencias sobre los correos electrónicos, debe ser capaz de interpretar el texto mediante una representación numérica de este. Una forma de hacerlo es utilizando un modelo llamado 'bag-of-words'. Este modelo simplemente cuenta la frecuencia de los tokens de palabras para cada correo electrónico y, de este modo, lo representa como un vector de estos conteos.\n",
        "\n",
        "**Función Assemble matrices**\n",
        "\n",
        "La función `assemble_bag()` ensambla un dataframe nuevo que contiene todas las palabras únicas encontradas en documentos de texo. Cuenta la frecuencia por palabra y luego regresa el dataframe nuevo."
      ],
      "metadata": {
        "id": "XGHbMEeXgzAl"
      }
    },
    {
      "cell_type": "code",
      "source": [
        "def assemble_bag(data):\n",
        "    used_tokens = []\n",
        "    all_tokens = []\n",
        "\n",
        "    for item in data:\n",
        "        for token in item:\n",
        "            if token in all_tokens:\n",
        "                if token not in used_tokens:\n",
        "                    used_tokens.append(token)\n",
        "            else:\n",
        "                all_tokens.append(token)\n",
        "\n",
        "    df = pd.DataFrame(0, index = np.arange(len(data)), columns = used_tokens)\n",
        "\n",
        "    for i, item in enumerate(data):\n",
        "        for token in item:\n",
        "            if token in used_tokens:\n",
        "                #####7) ESCRIBAN UNA LÍNEA DE CÓDIGO QUE INCREMENTE EN 1 EL VALOR EN LA FILA i Y LA COLUMNA CORRESPONDIENTE A token EN EL DATAFRAME df\n",
        "                df.loc[i, token] += 1\n",
        "    return df"
      ],
      "metadata": {
        "execution": {
          "iopub.status.busy": "2024-09-19T22:41:28.416524Z",
          "iopub.execute_input": "2024-09-19T22:41:28.417199Z",
          "iopub.status.idle": "2024-09-19T22:41:28.427283Z",
          "shell.execute_reply.started": "2024-09-19T22:41:28.417116Z",
          "shell.execute_reply": "2024-09-19T22:41:28.426177Z"
        },
        "trusted": true,
        "id": "d9uxorCGgzAl"
      },
      "execution_count": null,
      "outputs": []
    },
    {
      "cell_type": "markdown",
      "source": [
        "# Poniendo todo junto para armar el Dataset\n",
        "\n",
        "Se hacen todos los pasos de pre-procesamiento para armar nuestro dataset..."
      ],
      "metadata": {
        "id": "4orhvXsfgzAl"
      }
    },
    {
      "cell_type": "code",
      "source": [
        "# Convertir todo a lower-case, truncar a maxtokens y truncar cada token a maxtokenlen\n",
        "EnronEmails = bodies_df.iloc[:,0].apply(tokenize)\n",
        "EnronEmails = EnronEmails.apply(stop_word_removal)\n",
        "EnronEmails = EnronEmails.apply(reg_expressions)\n",
        "EnronEmails = EnronEmails.sample(Nsamp)\n",
        "\n",
        "SpamEmails = fraud_bodies_df.iloc[:,0].apply(tokenize)\n",
        "SpamEmails = SpamEmails.apply(stop_word_removal)\n",
        "SpamEmails = SpamEmails.apply(reg_expressions)\n",
        "SpamEmails = SpamEmails.sample(Nsamp)\n",
        "\n",
        "raw_data = pd.concat([SpamEmails,EnronEmails], axis=0).values"
      ],
      "metadata": {
        "execution": {
          "iopub.status.busy": "2024-09-19T22:41:28.428669Z",
          "iopub.execute_input": "2024-09-19T22:41:28.429158Z",
          "iopub.status.idle": "2024-09-19T22:41:34.73998Z",
          "shell.execute_reply.started": "2024-09-19T22:41:28.429116Z",
          "shell.execute_reply": "2024-09-19T22:41:34.738728Z"
        },
        "trusted": true,
        "id": "fbSqpEzigzAl"
      },
      "execution_count": null,
      "outputs": []
    },
    {
      "cell_type": "code",
      "source": [
        "print(\"El tamaño de los datos combinados es:\")\n",
        "print(raw_data.shape)\n",
        "print(\"Los datos son:\")\n",
        "print(raw_data)\n",
        "\n",
        "# crear las etiquetas correspondientes\n",
        "Categories = ['spam','notspam']\n",
        "header = ([1]*Nsamp)\n",
        "header.extend(([0]*Nsamp))"
      ],
      "metadata": {
        "execution": {
          "iopub.status.busy": "2024-09-19T22:41:34.741592Z",
          "iopub.execute_input": "2024-09-19T22:41:34.741985Z",
          "iopub.status.idle": "2024-09-19T22:41:34.74935Z",
          "shell.execute_reply.started": "2024-09-19T22:41:34.741943Z",
          "shell.execute_reply": "2024-09-19T22:41:34.747948Z"
        },
        "trusted": true,
        "id": "0nJ7BRhogzAl",
        "outputId": "5a36d47e-2778-4ff6-e8dd-b3b5612005b2"
      },
      "execution_count": null,
      "outputs": [
        {
          "name": "stdout",
          "text": "El tamaño de los datos combinados es:\n(2000,)\nLos datos son:\n[list(['dear', 'friendmy', 'name', 'godfred', 'akwesi', 'manager', 'ofinternational', 'commercial', 'bank', 'ghana', 'koforiduabranch', 'eastern', 'region', 'ghanai', 'write', 'letter', 'good', 'faith', '', 'yearsold', 'three', 'kids', 'packaged', 'transactionthat', 'benefit', 'branch', 'manager', 'ofthe', 'international', 'commercial', 'bank', 'duty', 'tosend', 'report', 'head', 'office', 'capital', 'cityaccra', 'end', 'year', 'business', 'courseof', 'last', 'two', 'years', '', 'business', 'report', 'idiscovered', 'branch', 'managermade', 'seven', 'million', 'hundred', 'thousand', 'united', 'statedollars', '', 'head', 'office', 'notaware', 'never', 'aware', 'iti', 'deposited', 'funds', 'call', 'fixed', 'callaccount', 'beneficiary', 'branch', 'manager', 'ofthis', 'bank', 'directly', 'connected', 'thismoney', 'contacting', 'transaction', 'toassist', 'receive', 'funds', 'bank', 'account', 'andget', '', 'total', 'funds', 'shareif', 'agree', 'assist', 'me', 'immediately', 'programyour', 'full', 'informations', 'computer', 'system', 'inmy', 'branch', 'account', 'owner', 'internationalcommercial', 'bank'])\n list(['dear', 'sir', 're', 'confidential', 'assistance', 'first', 'must', 'solicit', 'confidence', 'transaction', 'highly', 'placed', 'official', 'working', 'ministry', 'state', 'finance', 'economic', 'planning', 'banjul', 'gambia', 'west', 'africa', 'department', 'treasury', 'department', 'transactions', 'run', 'several', 'hundresds', 'millions', 'dollars', 'quaterly', 'two', 'colleagues', 'department', 'currently', 'need', 'silent', 'foreign', 'partner', 'whose', 'influence', 'bank', 'account', 'use', 'transfer', 'sum', 'eighteen', 'million', 'five', 'hundred', 'thousand', 'us', 'dollars', 'us', 'funds', 'accrued', 'legitimately', 'discretely', 'us', 'commission', 'foreign', 'contracts', 'private', 'connections', 'funds', 'presently', 'waiting', 'be', 'remitted', 'offshore', 'funds', 'managers', 'foreign', 'beneficiary', 'cleared', 'payment', 'however', 'virtue', 'positions', 'civil', 'servants', 'country', 'cannot', 'acquire', 'money', 'directly', 'names', 'we', 'allowed', 'civil', 'service', 'code', 'conduct', 'operate', 'bank', 'account', 'outside', 'shores', 'hand', 'safe', 'us', 'keep', 'money', 'due', 'unstable', 'political', 'environment', 'this', 'part', 'world', 'i'])\n list(['dear', 'intended', 'associatea', 'goodday', 'youi', 'drdavid', 'bryan', 'ellis', 'british', 'nationalthechairman', '', 'ceo', 'dbe', 'international', 'consortium', 'basedin', 'marbella', 'spain', 'search', 'trustworthyinvestment', 'expert', 'cum', 'funds', 'manager', 'would', 'bedisposed', 'handling', 'aforementioned', 'hundredpercent', 'reinvestment', 'purposes', 'would', 'haveordinarilly', 'done', 'given', 'investmentsexperiences', 'but', 'situations', 'myclose', 'friend', 'marbella', 'httpwwwpropertyworldcomsub_pagecfmtitlemarbellainmultibillionpropertyscandalaprilsectionhomeeditid', 'the', 'government', 'watching', 'activities', 'theseare', 'limitations', 'hence', 'need', 'favouri', 'earned', '', 'million', 'us', 'dollars', '', 'six', 'hundred', 'forty', 'million', 'united', 'states', 'dollars', '', 'themarbella', 'property', 'windfall', 'help', 'mymarbella', 'government', 'friends', 'propertyincrease', 'ago', 'marbella', 'need', 'afund', 'managerthat', 'help', 'invest', 'amountfor', 'details', 'pls', 'get', 'back', 'soon', 'aspossible', 'yourfull', 'namescontact', 'addresstelfax', 'numberssecured', 'email', 'addressi', 'await', 'urgent', 'response', 'via', 'direct', 'securedemail', 'bryanellismywaycomyours', 'sincerelydrdavid', 'bellisdo', 'reply', 'email', 'your', 'response', 'sent', 'at', 'bryanellismywaycom', '', 'directly', 'drdavid', 'bryan', 'ellis', 'email', 'send', 'world', 'wide', 'search', 'goodinvestment', 'expert', 'cum', 'funds', 'manager', 'handle', 'job'])\n ...\n list(['american', 'express', 'membership', 'rewards', 'announcementall', 'membership', 'rewards', 'accounts', 'cancelled', 'american', 'express', 'cancelled', 'enronamerican', 'express', 'corporate', 'cards', 'redeem', 'membership', 'rewards', 'points', 'earned', 'corporate', 'card', 'account', 'must', 'paid', 'zero', 'balance', 'upon', 'paying', 'account', 'zero', 'balance', 'two', 'options', 'redeem', 'points', 'establish', 'personal', 'card', 'account', 'american', 'express', 'points', 'accrued', 'corporate', 'card', 'transferred', 'personal', 'card', 'apply', 'personal', 'card', 'phone', 'call', 'thecard', '', 'cardmembers', 'must', 'transfer', 'membership', 'rewards', 'points', 'new', 'card', 'march', '', '', 'personal', 'card', 'want', 'establish', 'personal', 'card', 'call', 'american', 'express', 'membership', 'rewards', 'redemption', 'line', '', 'ask', 'speak', 'executive', 'consumer', 'relations', 'desk', 'identify', 'enron', 'employee', 'request', 'membership', 'rewards', 'reinstated', 'reinstated', 'points', 'must', 'redeemed', 'march', '', '', 'for', 'information', 'travel', 'services', 'please', 'contact', 'tracy', 'ramsey', '', ''])\n list(['hope', 'help', 'similar', 'nature', 'may', 'different', 'pieces', 'inlcuded', 'them', 'recommend', 'flipping', 'quickly', 'eliminate', 'extras', 'ones', 'needcall', 'need', 'anything', 'elsemike'])\n list(['mentioned', 'phone', 'sce', 'moved', 'ferc', 'in', 'ferc', 'docket', 'investigatingthe', 'california', 'market', 'subpoena', 'produce', 'information', 'isosmarket', 'surveillance', 'committee', 'particular', 'sce', 'requesting', 'informationthat', 'msc', 'referenced', 'december', '', '', 'report', 'ferc', 'whereinit', 'stated', 'msc', 'stands', 'ready', 'provide', 'commission', 'wesuspect', 'instances', 'exercise', 'significant', 'market', 'power', 'specificmarket', 'participants', 'encourage', 'commission', 'lawenforcement', 'agencies', 'well', 'use', 'authority', 'request', 'thesemarket', 'participants', 'necessary', 'information', 'confirm', 'whether', 'thesesuspicions', 'exercise', 'significant', 'market', 'power', 'factcorrect', 'msc', 'also', 'stated', 'could', 'provide', 'number', 'instancesof', 'suspects', 'suspicious', 'bidding', 'scheduling', 'behavior', 'thesummer', 'autumn', 'heres', 'outline', 'positions', 'think', 'make', 'answerthe', 'commission', 'reject', 'socal', 'edisons', 'request', 'subpoena', 'becauseferc', 'set', 'investigation', 'hearing', 'therefore', 'sces', 'request', 'isa', 'collateral', 'attack', 'commissions', 'order', 'establishing', 'process', 'forits', 'investigation', 'case', 'further', 'would', 'allow', 'edison', 'accessthis', 'information', 'pursue', 'case'])]\n",
          "output_type": "stream"
        }
      ]
    },
    {
      "cell_type": "markdown",
      "source": [
        "¡Estamos ahora listos para convertirlos en valores numéricos!!"
      ],
      "metadata": {
        "id": "Hu_jIEdFgzAm"
      }
    },
    {
      "cell_type": "markdown",
      "source": [
        "**Crear features y labels**"
      ],
      "metadata": {
        "id": "u8nRZYg4gzAm"
      }
    },
    {
      "cell_type": "code",
      "source": [
        "# crear modelo bag-of-words\n",
        "EnronSpamBag = assemble_bag(raw_data)\n",
        "# la siguiente es la lista de palabras en nuestro modelo bag-of-words\n",
        "predictors = [column for column in EnronSpamBag.columns]\n",
        "EnronSpamBag # despliegue el modelo para el usuario"
      ],
      "metadata": {
        "execution": {
          "iopub.status.busy": "2024-09-19T22:41:34.750963Z",
          "iopub.execute_input": "2024-09-19T22:41:34.75145Z",
          "iopub.status.idle": "2024-09-19T22:43:22.370665Z",
          "shell.execute_reply.started": "2024-09-19T22:41:34.751396Z",
          "shell.execute_reply": "2024-09-19T22:43:22.369393Z"
        },
        "trusted": true,
        "id": "8Ax59lAKgzAm",
        "outputId": "bbd65399-a30a-4deb-f2c8-2e7c6a7ae95c"
      },
      "execution_count": null,
      "outputs": [
        {
          "execution_count": 22,
          "output_type": "execute_result",
          "data": {
            "text/plain": "      manager  commercial  bank     business  report  branch  head  office  \\\n0           3           2     5  4         2       2       4     2       2   \n1           0           0     2  0         0       0       0     0       0   \n2           2           0     0  5         0       0       0     0       0   \n3           1           0     3  5         0       0       0     1       0   \n4           0           0     0  0         0       0       0     0       0   \n...       ...         ...   ... ..       ...     ...     ...   ...     ...   \n1995        0           0     0  0         0       0       0     0       0   \n1996        0           0     0  6         0       0       0     0       0   \n1997        0           0     0  8         0       0       0     0       0   \n1998        0           0     0  0         0       0       0     0       0   \n1999        0           0     0  2         0       1       0     0       0   \n\n      funds  ...  rewards  cancelled  consumer  reinstated  extras  \\\n0         3  ...        0          0         0           0       0   \n1         3  ...        0          0         0           0       0   \n2         2  ...        0          0         0           0       0   \n3         0  ...        0          0         0           0       0   \n4         0  ...        0          0         0           0       0   \n...     ...  ...      ...        ...       ...         ...     ...   \n1995      0  ...        0          0         0           0       0   \n1996      0  ...        0          0         0           0       0   \n1997      0  ...        6          2         1           2       0   \n1998      0  ...        0          0         0           0       1   \n1999      0  ...        0          0         0           0       0   \n\n      informationthat  msc  socal  edisons  commissions  \n0                   0    0      0        0            0  \n1                   0    0      0        0            0  \n2                   0    0      0        0            0  \n3                   0    0      0        0            0  \n4                   0    0      0        0            0  \n...               ...  ...    ...      ...          ...  \n1995                0    0      0        0            0  \n1996                0    0      0        0            0  \n1997                0    0      0        0            0  \n1998                0    0      0        0            0  \n1999                1    3      1        1            1  \n\n[2000 rows x 10669 columns]",
            "text/html": "<div>\n<style scoped>\n    .dataframe tbody tr th:only-of-type {\n        vertical-align: middle;\n    }\n\n    .dataframe tbody tr th {\n        vertical-align: top;\n    }\n\n    .dataframe thead th {\n        text-align: right;\n    }\n</style>\n<table border=\"1\" class=\"dataframe\">\n  <thead>\n    <tr style=\"text-align: right;\">\n      <th></th>\n      <th>manager</th>\n      <th>commercial</th>\n      <th>bank</th>\n      <th></th>\n      <th>business</th>\n      <th>report</th>\n      <th>branch</th>\n      <th>head</th>\n      <th>office</th>\n      <th>funds</th>\n      <th>...</th>\n      <th>rewards</th>\n      <th>cancelled</th>\n      <th>consumer</th>\n      <th>reinstated</th>\n      <th>extras</th>\n      <th>informationthat</th>\n      <th>msc</th>\n      <th>socal</th>\n      <th>edisons</th>\n      <th>commissions</th>\n    </tr>\n  </thead>\n  <tbody>\n    <tr>\n      <th>0</th>\n      <td>3</td>\n      <td>2</td>\n      <td>5</td>\n      <td>4</td>\n      <td>2</td>\n      <td>2</td>\n      <td>4</td>\n      <td>2</td>\n      <td>2</td>\n      <td>3</td>\n      <td>...</td>\n      <td>0</td>\n      <td>0</td>\n      <td>0</td>\n      <td>0</td>\n      <td>0</td>\n      <td>0</td>\n      <td>0</td>\n      <td>0</td>\n      <td>0</td>\n      <td>0</td>\n    </tr>\n    <tr>\n      <th>1</th>\n      <td>0</td>\n      <td>0</td>\n      <td>2</td>\n      <td>0</td>\n      <td>0</td>\n      <td>0</td>\n      <td>0</td>\n      <td>0</td>\n      <td>0</td>\n      <td>3</td>\n      <td>...</td>\n      <td>0</td>\n      <td>0</td>\n      <td>0</td>\n      <td>0</td>\n      <td>0</td>\n      <td>0</td>\n      <td>0</td>\n      <td>0</td>\n      <td>0</td>\n      <td>0</td>\n    </tr>\n    <tr>\n      <th>2</th>\n      <td>2</td>\n      <td>0</td>\n      <td>0</td>\n      <td>5</td>\n      <td>0</td>\n      <td>0</td>\n      <td>0</td>\n      <td>0</td>\n      <td>0</td>\n      <td>2</td>\n      <td>...</td>\n      <td>0</td>\n      <td>0</td>\n      <td>0</td>\n      <td>0</td>\n      <td>0</td>\n      <td>0</td>\n      <td>0</td>\n      <td>0</td>\n      <td>0</td>\n      <td>0</td>\n    </tr>\n    <tr>\n      <th>3</th>\n      <td>1</td>\n      <td>0</td>\n      <td>3</td>\n      <td>5</td>\n      <td>0</td>\n      <td>0</td>\n      <td>0</td>\n      <td>1</td>\n      <td>0</td>\n      <td>0</td>\n      <td>...</td>\n      <td>0</td>\n      <td>0</td>\n      <td>0</td>\n      <td>0</td>\n      <td>0</td>\n      <td>0</td>\n      <td>0</td>\n      <td>0</td>\n      <td>0</td>\n      <td>0</td>\n    </tr>\n    <tr>\n      <th>4</th>\n      <td>0</td>\n      <td>0</td>\n      <td>0</td>\n      <td>0</td>\n      <td>0</td>\n      <td>0</td>\n      <td>0</td>\n      <td>0</td>\n      <td>0</td>\n      <td>0</td>\n      <td>...</td>\n      <td>0</td>\n      <td>0</td>\n      <td>0</td>\n      <td>0</td>\n      <td>0</td>\n      <td>0</td>\n      <td>0</td>\n      <td>0</td>\n      <td>0</td>\n      <td>0</td>\n    </tr>\n    <tr>\n      <th>...</th>\n      <td>...</td>\n      <td>...</td>\n      <td>...</td>\n      <td>...</td>\n      <td>...</td>\n      <td>...</td>\n      <td>...</td>\n      <td>...</td>\n      <td>...</td>\n      <td>...</td>\n      <td>...</td>\n      <td>...</td>\n      <td>...</td>\n      <td>...</td>\n      <td>...</td>\n      <td>...</td>\n      <td>...</td>\n      <td>...</td>\n      <td>...</td>\n      <td>...</td>\n      <td>...</td>\n    </tr>\n    <tr>\n      <th>1995</th>\n      <td>0</td>\n      <td>0</td>\n      <td>0</td>\n      <td>0</td>\n      <td>0</td>\n      <td>0</td>\n      <td>0</td>\n      <td>0</td>\n      <td>0</td>\n      <td>0</td>\n      <td>...</td>\n      <td>0</td>\n      <td>0</td>\n      <td>0</td>\n      <td>0</td>\n      <td>0</td>\n      <td>0</td>\n      <td>0</td>\n      <td>0</td>\n      <td>0</td>\n      <td>0</td>\n    </tr>\n    <tr>\n      <th>1996</th>\n      <td>0</td>\n      <td>0</td>\n      <td>0</td>\n      <td>6</td>\n      <td>0</td>\n      <td>0</td>\n      <td>0</td>\n      <td>0</td>\n      <td>0</td>\n      <td>0</td>\n      <td>...</td>\n      <td>0</td>\n      <td>0</td>\n      <td>0</td>\n      <td>0</td>\n      <td>0</td>\n      <td>0</td>\n      <td>0</td>\n      <td>0</td>\n      <td>0</td>\n      <td>0</td>\n    </tr>\n    <tr>\n      <th>1997</th>\n      <td>0</td>\n      <td>0</td>\n      <td>0</td>\n      <td>8</td>\n      <td>0</td>\n      <td>0</td>\n      <td>0</td>\n      <td>0</td>\n      <td>0</td>\n      <td>0</td>\n      <td>...</td>\n      <td>6</td>\n      <td>2</td>\n      <td>1</td>\n      <td>2</td>\n      <td>0</td>\n      <td>0</td>\n      <td>0</td>\n      <td>0</td>\n      <td>0</td>\n      <td>0</td>\n    </tr>\n    <tr>\n      <th>1998</th>\n      <td>0</td>\n      <td>0</td>\n      <td>0</td>\n      <td>0</td>\n      <td>0</td>\n      <td>0</td>\n      <td>0</td>\n      <td>0</td>\n      <td>0</td>\n      <td>0</td>\n      <td>...</td>\n      <td>0</td>\n      <td>0</td>\n      <td>0</td>\n      <td>0</td>\n      <td>1</td>\n      <td>0</td>\n      <td>0</td>\n      <td>0</td>\n      <td>0</td>\n      <td>0</td>\n    </tr>\n    <tr>\n      <th>1999</th>\n      <td>0</td>\n      <td>0</td>\n      <td>0</td>\n      <td>2</td>\n      <td>0</td>\n      <td>1</td>\n      <td>0</td>\n      <td>0</td>\n      <td>0</td>\n      <td>0</td>\n      <td>...</td>\n      <td>0</td>\n      <td>0</td>\n      <td>0</td>\n      <td>0</td>\n      <td>0</td>\n      <td>1</td>\n      <td>3</td>\n      <td>1</td>\n      <td>1</td>\n      <td>1</td>\n    </tr>\n  </tbody>\n</table>\n<p>2000 rows × 10669 columns</p>\n</div>"
          },
          "metadata": {}
        }
      ]
    },
    {
      "cell_type": "code",
      "source": [
        "# hacer un shuffle inicial del raw data\n",
        "def unison_shuffle_data(data, header):\n",
        "    p = np.random.permutation(len(header))\n",
        "    data = data[p,:]\n",
        "    header = np.asarray(header)[p]\n",
        "    return data, header\n",
        "data, header = unison_shuffle_data(EnronSpamBag.values, header)\n",
        "\n",
        "# dividir en conjuntos independientes\n",
        "idx = int(0.7*data.shape[0])\n",
        "\n",
        "# 70% de datos para training\n",
        "train_x = data[:idx,:]\n",
        "train_y = header[:idx]\n",
        "# # restante 30% para testing\n",
        "test_x = data[idx:,:]\n",
        "test_y = header[idx:]\n",
        "\n",
        "print(\"detalles de train_x/train_y, para asegurar que tengan la forma correcta:\")\n",
        "print(len(train_x))\n",
        "print(train_x)\n",
        "print(train_y[:5])\n",
        "print(len(train_y))"
      ],
      "metadata": {
        "execution": {
          "iopub.status.busy": "2024-09-19T22:43:22.37239Z",
          "iopub.execute_input": "2024-09-19T22:43:22.372889Z",
          "iopub.status.idle": "2024-09-19T22:43:22.456268Z",
          "shell.execute_reply.started": "2024-09-19T22:43:22.372836Z",
          "shell.execute_reply": "2024-09-19T22:43:22.455055Z"
        },
        "trusted": true,
        "id": "gDx5L0_ogzAm",
        "outputId": "c49337bf-c5ea-418c-dfa3-c66545a31975"
      },
      "execution_count": null,
      "outputs": [
        {
          "name": "stdout",
          "text": "detalles de train_x/train_y, para asegurar que tengan la forma correcta:\n1400\n[[0 0 0 ... 0 0 0]\n [0 0 0 ... 0 0 0]\n [0 0 0 ... 0 0 0]\n ...\n [0 0 0 ... 0 0 0]\n [0 0 0 ... 0 0 0]\n [0 0 0 ... 0 0 0]]\n[0 0 0 0 1]\n1400\n",
          "output_type": "stream"
        }
      ]
    },
    {
      "cell_type": "markdown",
      "source": [
        "Como 70% de 2000 es 1400, !se ve bien! (para Nsamp=1000)\n",
        "\n",
        "¡Sigamos!"
      ],
      "metadata": {
        "id": "AmrkkHvhgzAm"
      }
    },
    {
      "cell_type": "markdown",
      "source": [
        "# Clasificador de Regresión Logística"
      ],
      "metadata": {
        "id": "ab4fbQYVgzAm"
      }
    },
    {
      "cell_type": "code",
      "source": [
        "from sklearn.linear_model import LogisticRegression\n",
        "\n",
        "def fit(train_x,train_y):\n",
        "    model = LogisticRegression()\n",
        "\n",
        "    try:\n",
        "        model.fit(train_x, train_y)\n",
        "    except:\n",
        "        pass\n",
        "    return model\n",
        "\n",
        "model = fit(train_x,train_y)"
      ],
      "metadata": {
        "execution": {
          "iopub.status.busy": "2024-09-19T22:43:22.458008Z",
          "iopub.execute_input": "2024-09-19T22:43:22.458388Z",
          "iopub.status.idle": "2024-09-19T22:43:24.983818Z",
          "shell.execute_reply.started": "2024-09-19T22:43:22.458351Z",
          "shell.execute_reply": "2024-09-19T22:43:24.982441Z"
        },
        "trusted": true,
        "id": "CEHKq3TigzAm"
      },
      "execution_count": null,
      "outputs": []
    },
    {
      "cell_type": "code",
      "source": [
        "predicted_labels = model.predict(test_x)\n",
        "\n",
        "# imprimir todos los labels para transparencia completa\n",
        "print(\"DEBUG:: Los labels completos de regresión logística son:\")\n",
        "print(predicted_labels)"
      ],
      "metadata": {
        "execution": {
          "iopub.status.busy": "2024-09-19T22:43:24.986511Z",
          "iopub.execute_input": "2024-09-19T22:43:24.987079Z",
          "iopub.status.idle": "2024-09-19T22:43:25.030604Z",
          "shell.execute_reply.started": "2024-09-19T22:43:24.987007Z",
          "shell.execute_reply": "2024-09-19T22:43:25.028973Z"
        },
        "trusted": true,
        "id": "Vb6RAgevgzAn",
        "outputId": "4f8aa55c-fcde-4d7c-f6b0-0d88726e2112"
      },
      "execution_count": null,
      "outputs": [
        {
          "name": "stdout",
          "text": "DEBUG:: Los labels completos de regresión logística son:\n[0 0 1 0 1 1 0 1 1 0 0 1 0 0 0 1 1 0 0 1 1 1 0 1 1 1 0 0 0 0 0 1 1 1 1 0 0\n 0 1 0 1 0 0 0 1 0 0 0 1 0 1 0 0 1 0 0 0 1 0 0 1 1 1 1 1 0 0 1 1 1 0 1 0 1\n 0 0 1 1 1 1 1 0 0 1 1 0 1 0 1 1 0 1 1 0 0 1 0 1 0 0 0 1 1 1 0 1 1 0 1 0 0\n 0 0 1 0 1 1 1 0 0 1 1 0 0 1 1 1 0 1 0 1 0 0 1 0 0 1 1 1 1 1 1 1 0 1 0 0 0\n 0 1 0 0 0 0 1 1 1 1 0 0 1 0 1 1 1 0 1 0 0 0 0 1 1 0 1 1 0 0 0 1 0 0 1 0 1\n 0 1 1 0 1 0 1 0 0 1 1 1 0 1 1 0 0 1 0 1 0 1 1 1 0 1 1 1 1 1 1 1 0 1 0 1 1\n 0 1 0 1 0 0 1 1 0 0 1 0 1 1 0 0 0 0 1 0 0 1 0 1 0 0 1 0 0 1 1 0 1 1 0 0 1\n 1 1 0 1 0 0 0 1 1 0 0 1 0 0 0 1 1 1 0 1 1 0 0 0 0 1 1 0 1 0 0 1 0 1 0 1 1\n 1 1 1 1 0 1 0 1 0 0 1 1 0 1 1 1 0 1 1 0 0 0 0 0 1 1 1 1 1 0 1 1 0 0 1 0 0\n 1 0 1 1 0 0 0 1 1 1 0 1 0 0 1 1 1 0 1 0 1 0 0 0 0 0 0 1 1 1 1 0 0 0 1 1 1\n 1 1 1 1 1 1 1 0 1 0 1 1 1 0 0 0 1 1 0 1 0 1 0 0 1 1 1 0 1 0 0 1 0 0 0 0 0\n 1 1 1 1 1 0 0 1 0 1 0 0 0 1 1 1 0 1 0 1 0 0 1 0 1 0 1 1 1 1 0 0 1 0 0 1 0\n 1 0 1 0 1 1 0 1 1 0 1 1 0 1 1 0 1 1 1 0 1 1 1 1 1 0 1 0 0 0 0 1 0 0 0 0 1\n 1 1 0 1 0 0 0 0 0 0 1 1 1 1 1 0 1 1 0 1 0 1 1 0 1 0 1 1 0 0 1 0 1 1 0 0 1\n 0 1 1 1 0 1 0 0 0 0 1 1 0 0 1 0 0 1 0 1 1 1 1 0 0 1 1 1 0 0 1 1 0 1 0 0 1\n 1 1 0 0 1 0 0 0 1 0 0 0 1 0 1 0 0 1 0 0 1 0 1 1 0 0 1 0 1 0 1 1 1 0 0 1 1\n 1 1 0 0 1 1 0 1]\n",
          "output_type": "stream"
        }
      ]
    },
    {
      "cell_type": "code",
      "source": [
        "from sklearn.metrics import accuracy_score\n",
        "\n",
        "acc_score = accuracy_score(test_y, predicted_labels)\n",
        "\n",
        "print(\"DEBUG::El accuracy score de regresión logística es::\")\n",
        "print(acc_score)"
      ],
      "metadata": {
        "execution": {
          "iopub.status.busy": "2024-09-19T22:43:25.032708Z",
          "iopub.execute_input": "2024-09-19T22:43:25.033239Z",
          "iopub.status.idle": "2024-09-19T22:43:25.044968Z",
          "shell.execute_reply.started": "2024-09-19T22:43:25.033181Z",
          "shell.execute_reply": "2024-09-19T22:43:25.043468Z"
        },
        "trusted": true,
        "id": "6NiHF1L6gzAr",
        "outputId": "c8b0d689-9cb4-4822-8f2a-93bc5e7eafd3"
      },
      "execution_count": null,
      "outputs": [
        {
          "name": "stdout",
          "text": "DEBUG::El accuracy score de regresión logística es::\n0.99\n",
          "output_type": "stream"
        }
      ]
    },
    {
      "cell_type": "markdown",
      "source": [
        "# Clasificador de Support Vector Machine"
      ],
      "metadata": {
        "id": "85f07XuygzAr"
      }
    },
    {
      "cell_type": "code",
      "source": [
        "import time\n",
        "from sklearn.svm import SVC # modelo de Support Vector Classification"
      ],
      "metadata": {
        "execution": {
          "iopub.status.busy": "2024-09-19T22:43:25.047477Z",
          "iopub.execute_input": "2024-09-19T22:43:25.049657Z",
          "iopub.status.idle": "2024-09-19T22:43:25.05745Z",
          "shell.execute_reply.started": "2024-09-19T22:43:25.049596Z",
          "shell.execute_reply": "2024-09-19T22:43:25.056008Z"
        },
        "trusted": true,
        "id": "zL9snGZkgzAr"
      },
      "execution_count": null,
      "outputs": []
    },
    {
      "cell_type": "code",
      "source": [
        "# Crear un clasificador de soporte vectorial\n",
        "clf = SVC(C=1, gamma=\"auto\", probability=True)\n",
        "\n",
        "# Ajustar el clasificador usando datos de entrenamiento\n",
        "start_time = time.time()\n",
        "clf.fit(train_x, train_y)\n",
        "end_time = time.time()\n",
        "print(\"Entrenar el Clasificador SVC tomó %3d segundos\"%(end_time-start_time))\n",
        "\n",
        "predicted_labels = clf.predict(test_x)\n",
        "print(\"DEBUG::Las labels del Clasificador SVC son::\")\n",
        "print(predicted_labels)\n",
        "\n",
        "acc_score = accuracy_score(test_y, predicted_labels)\n",
        "\n",
        "print(\"DEBUG::El accuracy score del Clasificador SVC es::\")\n",
        "print(acc_score)"
      ],
      "metadata": {
        "execution": {
          "iopub.status.busy": "2024-09-19T22:43:25.060995Z",
          "iopub.execute_input": "2024-09-19T22:43:25.062584Z",
          "iopub.status.idle": "2024-09-19T22:44:46.182372Z",
          "shell.execute_reply.started": "2024-09-19T22:43:25.062522Z",
          "shell.execute_reply": "2024-09-19T22:44:46.181161Z"
        },
        "trusted": true,
        "id": "abXgu-MFgzAs",
        "outputId": "96fd4ea1-9fe1-4e32-acba-05a6af3fd97e"
      },
      "execution_count": null,
      "outputs": [
        {
          "name": "stdout",
          "text": "Entrenar el Clasificador SVC tomó  69 segundos\nDEBUG::Las labels del Clasificador SVC son::\n[0 0 1 1 1 1 0 1 0 0 0 1 0 0 0 1 1 0 1 1 1 1 1 1 1 1 0 1 0 1 0 1 1 1 1 0 0\n 1 1 1 1 1 1 1 1 0 1 0 1 0 1 0 0 1 1 1 0 1 0 0 1 1 1 1 1 0 1 1 1 1 0 1 0 1\n 1 1 1 1 1 1 1 0 1 1 1 0 1 0 1 0 1 1 1 0 0 1 0 1 0 1 0 1 1 1 1 1 1 0 1 1 0\n 0 0 1 1 1 1 1 0 0 1 1 1 0 1 1 1 0 1 0 1 0 0 1 0 0 1 1 1 1 1 1 1 1 1 1 0 1\n 1 1 1 0 1 0 1 1 1 1 0 0 0 0 1 1 1 1 1 0 0 0 0 1 1 0 1 1 0 0 0 1 0 1 1 0 1\n 0 1 1 1 1 0 1 0 1 1 1 1 0 1 0 0 0 0 0 1 1 1 1 1 1 1 1 1 1 1 1 1 1 1 0 1 1\n 0 1 0 1 1 1 1 1 0 1 1 1 1 1 0 1 1 1 1 0 1 1 0 1 1 1 1 1 0 1 1 1 1 1 1 1 1\n 1 1 0 1 1 1 0 1 1 0 1 1 1 1 1 1 1 1 0 1 1 1 1 1 0 1 1 1 1 0 1 1 1 1 1 1 1\n 1 1 1 1 0 1 0 1 1 1 1 1 0 1 1 1 0 1 1 1 0 1 1 1 1 1 1 1 1 1 1 1 1 0 1 0 0\n 1 1 1 1 0 0 0 0 1 1 1 1 1 0 1 1 1 0 1 0 1 0 0 0 0 1 0 1 1 1 1 0 0 0 1 1 1\n 1 1 1 1 1 1 1 1 1 1 1 1 1 0 1 1 1 1 0 1 0 1 0 0 1 1 1 1 1 1 0 1 0 1 0 0 1\n 1 1 1 1 1 0 1 1 1 1 0 0 0 1 1 1 0 1 0 1 0 0 1 1 1 1 1 1 1 1 1 0 0 0 0 1 0\n 1 0 1 0 1 1 0 1 1 1 1 1 0 1 1 1 1 1 1 0 1 1 1 1 1 0 1 1 0 1 1 1 0 1 0 0 1\n 1 1 0 1 1 1 1 0 0 0 1 1 1 1 1 1 1 1 1 1 0 1 1 1 1 0 1 1 1 0 1 1 1 1 0 1 1\n 1 1 1 1 1 1 1 0 1 1 1 1 1 0 1 0 1 1 1 1 1 1 1 0 0 1 1 1 0 1 1 1 0 1 0 1 1\n 1 1 0 0 1 0 0 0 1 1 0 0 1 0 1 1 0 0 0 1 1 1 1 1 1 1 1 0 1 0 1 1 1 0 0 1 1\n 1 1 1 0 1 1 1 1]\nDEBUG::El accuracy score del Clasificador SVC es::\n0.7883333333333333\n",
          "output_type": "stream"
        }
      ]
    },
    {
      "cell_type": "markdown",
      "source": [
        "# Random Forests"
      ],
      "metadata": {
        "id": "ktM8H9HJgzAs"
      }
    },
    {
      "cell_type": "code",
      "source": [
        "# Cargar el scikit's random forest classifier library\n",
        "from sklearn.ensemble import RandomForestClassifier\n",
        "\n",
        "# Create un Clasificador random forest. Por convención, clf significa 'Classifier'\n",
        "clf = RandomForestClassifier(n_jobs=1, random_state=0)\n",
        "\n",
        "# Entrenar al clasificador para que tome las características de entrenamiento y aprenda cómo se relacionan con el entrenamiento de y (spam, not spam?)\n",
        "start_time = time.time()\n",
        "clf.fit(train_x, train_y)\n",
        "end_time = time.time()\n",
        "print(\"Entrenar el Random Forest Classifier tomó %3d segundos\"%(end_time-start_time))\n",
        "\n",
        "predicted_labels = clf.predict(test_x)\n",
        "print(\"DEBUG::Las etiquetas RF predecidas son::\")\n",
        "print(predicted_labels)\n",
        "\n",
        "acc_score = accuracy_score(test_y, predicted_labels)\n",
        "\n",
        "print(\"DEBUG::El RF testing accuracy score es::\")\n",
        "print(acc_score)"
      ],
      "metadata": {
        "execution": {
          "iopub.status.busy": "2024-09-19T22:44:46.188496Z",
          "iopub.execute_input": "2024-09-19T22:44:46.19284Z",
          "iopub.status.idle": "2024-09-19T22:44:49.581638Z",
          "shell.execute_reply.started": "2024-09-19T22:44:46.192765Z",
          "shell.execute_reply": "2024-09-19T22:44:49.579882Z"
        },
        "trusted": true,
        "id": "9QcWXJ-vgzAs",
        "outputId": "4b5bae86-1388-40f8-abd3-ca905225d0ce"
      },
      "execution_count": null,
      "outputs": [
        {
          "name": "stdout",
          "text": "Entrenar el Random Forest Classifier tomó   3 segundos\nDEBUG::Las etiquetas RF predecidas son::\n[0 0 1 0 1 1 0 1 1 0 0 1 0 0 0 1 1 0 0 1 1 1 0 1 1 1 0 0 0 0 0 1 1 1 1 0 0\n 0 1 0 1 0 0 0 1 0 0 0 1 0 1 0 0 1 0 0 0 1 0 0 1 1 1 1 1 0 0 1 1 1 0 1 0 1\n 0 0 1 1 1 1 1 0 0 1 1 0 1 0 1 1 0 1 1 0 0 1 0 1 0 0 0 1 1 1 0 1 1 0 1 0 0\n 0 0 1 0 1 1 1 0 0 1 1 0 0 1 1 1 0 1 0 1 0 0 1 0 0 1 1 1 1 1 1 1 0 1 0 0 0\n 0 1 0 0 0 0 1 1 1 1 0 0 1 0 1 1 1 0 1 0 0 0 0 1 1 0 1 1 0 0 0 1 0 0 1 0 1\n 0 1 1 0 1 0 1 0 1 1 1 1 0 1 1 0 0 1 0 1 0 1 1 1 0 1 1 1 1 1 1 1 0 1 0 1 1\n 0 1 0 1 0 0 1 1 0 0 1 0 1 1 0 0 0 0 1 0 0 1 0 1 0 0 1 0 0 1 1 0 1 1 0 0 0\n 1 1 0 1 0 0 0 1 1 0 0 1 0 0 0 1 1 1 0 1 1 0 0 0 0 1 1 0 1 0 0 1 0 1 0 1 1\n 1 1 1 1 0 1 0 1 0 0 1 1 0 1 1 1 0 1 1 0 0 0 0 0 1 1 1 1 1 0 1 1 0 0 1 0 0\n 1 0 1 1 0 0 0 1 1 1 0 1 0 0 1 1 1 0 1 0 1 0 0 0 0 0 0 1 1 1 1 0 0 0 1 1 1\n 1 1 1 1 1 1 1 0 1 0 1 1 1 0 0 0 1 1 0 1 0 1 0 0 1 1 1 0 1 0 0 1 0 0 0 0 0\n 1 1 1 1 1 0 0 1 0 1 0 0 0 1 1 1 0 1 0 1 0 0 1 0 1 0 1 1 1 1 0 0 1 0 0 1 0\n 1 0 1 0 1 1 0 1 1 0 1 1 0 1 1 0 1 1 1 0 1 1 1 1 1 0 1 0 0 0 0 1 0 0 0 0 1\n 1 1 0 1 0 0 0 0 0 0 1 1 1 1 1 0 1 1 0 1 0 1 1 0 1 0 1 1 0 0 1 0 1 1 0 0 1\n 0 1 1 1 0 1 0 0 0 0 1 1 0 0 0 0 0 1 0 1 1 1 1 0 0 1 1 1 0 0 1 1 0 1 0 0 1\n 1 1 0 0 1 0 0 0 1 0 0 0 1 0 1 0 0 1 0 0 1 0 1 1 0 0 1 0 1 0 1 1 1 0 0 1 1\n 1 1 0 0 1 1 0 1]\nDEBUG::El RF testing accuracy score es::\n0.985\n",
          "output_type": "stream"
        }
      ]
    },
    {
      "cell_type": "code",
      "source": [
        "# Ahora, ajuste los parámetros sistemáticamente\n",
        "from sklearn.model_selection import GridSearchCV\n",
        "\n",
        "print(\"Available hyper-parameters for systematic tuning available with RF:\")\n",
        "print(clf.get_params())\n",
        "\n",
        "## seleccione un subconjunto de parámetros a ajustar, y especifique grid para cada uno\n",
        "param_grid = {\n",
        "    'min_samples_leaf': [1, 2, 3],\n",
        "    'min_samples_split': [2, 6, 10],\n",
        "    'n_estimators': [10, 100, 1000]\n",
        "}\n",
        "grid_search = GridSearchCV(estimator = clf, param_grid = param_grid,\n",
        "                          cv = 3, n_jobs = -1, verbose = 2)\n",
        "\n",
        "# Ajuste la búsqueda de grid a los datos\n",
        "grid_search.fit(train_x, train_y)\n",
        "\n",
        "print(\"Los mejores parámetros encontrados:\")\n",
        "print(grid_search.best_params_)\n",
        "\n",
        "print(\"La accuracy estimada es:\")\n",
        "acc_score = accuracy_score(test_y, grid_search.best_estimator_.predict(test_x))\n",
        "print(acc_score)"
      ],
      "metadata": {
        "execution": {
          "iopub.status.busy": "2024-09-19T22:44:49.583137Z",
          "iopub.execute_input": "2024-09-19T22:44:49.583622Z",
          "iopub.status.idle": "2024-09-19T22:48:55.685735Z",
          "shell.execute_reply.started": "2024-09-19T22:44:49.583566Z",
          "shell.execute_reply": "2024-09-19T22:48:55.68427Z"
        },
        "trusted": true,
        "id": "2wiKZzchgzAs",
        "outputId": "36dc6016-0ed5-420f-c74a-44df15223344"
      },
      "execution_count": null,
      "outputs": [
        {
          "name": "stdout",
          "text": "Available hyper-parameters for systematic tuning available with RF:\n{'bootstrap': True, 'ccp_alpha': 0.0, 'class_weight': None, 'criterion': 'gini', 'max_depth': None, 'max_features': 'sqrt', 'max_leaf_nodes': None, 'max_samples': None, 'min_impurity_decrease': 0.0, 'min_samples_leaf': 1, 'min_samples_split': 2, 'min_weight_fraction_leaf': 0.0, 'n_estimators': 100, 'n_jobs': 1, 'oob_score': False, 'random_state': 0, 'verbose': 0, 'warm_start': False}\nFitting 3 folds for each of 27 candidates, totalling 81 fits\nLos mejores parámetros encontrados:\n{'min_samples_leaf': 1, 'min_samples_split': 6, 'n_estimators': 1000}\nLa accuracy estimada es:\n0.9866666666666667\n",
          "output_type": "stream"
        }
      ]
    },
    {
      "cell_type": "markdown",
      "source": [
        "# Máquinas Gradient Boosting"
      ],
      "metadata": {
        "id": "n-MtHI_zgzAs"
      }
    },
    {
      "cell_type": "code",
      "source": [
        "from sklearn.ensemble import GradientBoostingClassifier  # algoritmo GBM\n",
        "from sklearn import metrics   #Funciones scklearn adicionales\n",
        "from sklearn.model_selection import cross_val_score, GridSearchCV\n",
        "\n",
        "def modelfit(alg, train_x, train_y, predictors, test_x, performCV=True, printFeatureImportance=False, cv_folds=5):\n",
        "    #Ajuste el algoritmo a los datos\n",
        "    alg.fit(train_x, train_y)\n",
        "\n",
        "    #Prediga conjunto de training:\n",
        "    predictions = alg.predict(train_x)\n",
        "    predprob = alg.predict_proba(train_x)[:,1]\n",
        "\n",
        "    #Haga cross-validation:\n",
        "    if performCV:\n",
        "        cv_score = cross_val_score(alg, train_x, train_y, cv=cv_folds, scoring='roc_auc')\n",
        "\n",
        "    #Imprima reporte de modelo:\n",
        "    print(\"\\nModel Report\")\n",
        "    print(\"Accuracy : %.4g\" % metrics.accuracy_score(train_y,predictions))\n",
        "    print(\"AUC Score (Train): %f\" % metrics.roc_auc_score(train_y, predprob))\n",
        "\n",
        "    if performCV:\n",
        "        print(\"CV Score : Mean - %.7g | Std - %.7g | Min - %.7g | Max - %.7g\" % (np.mean(cv_score),np.std(cv_score),np.min(cv_score),np.max(cv_score)))\n",
        "\n",
        "    #Imprimir Feature Importance:\n",
        "    if printFeatureImportance:\n",
        "        feat_imp = pd.Series(alg.feature_importances_, predictors).sort_values(ascending=False)\n",
        "        feat_imp[:10].plot(kind='bar', title='Feature Importances')\n",
        "\n",
        "    return alg.predict(test_x),alg.predict_proba(test_x)\n",
        "\n",
        "gbm0 = GradientBoostingClassifier(random_state=10)\n",
        "\n",
        "start_time = time.time()\n",
        "test_predictions, test_probs = modelfit(gbm0, train_x, train_y, predictors, test_x)\n",
        "end_time = time.time()\n",
        "\n",
        "print(\"El entrenamiento del Gradient Boosting Classifier tomó %3d segundos\"%(end_time-start_time))\n",
        "\n",
        "predicted_labels = test_predictions\n",
        "print(\"DEBUG::Los labels predecidos de Gradient Boosting son::\")\n",
        "print(predicted_labels)\n",
        "\n",
        "acc_score = accuracy_score(test_y, predicted_labels)\n",
        "\n",
        "print(\"DEBUG::El testing accuracy score de Gradient Boosting es::\")\n",
        "print(acc_score)"
      ],
      "metadata": {
        "execution": {
          "iopub.status.busy": "2024-09-19T22:48:55.691653Z",
          "iopub.execute_input": "2024-09-19T22:48:55.692119Z",
          "iopub.status.idle": "2024-09-19T22:53:28.575554Z",
          "shell.execute_reply.started": "2024-09-19T22:48:55.69207Z",
          "shell.execute_reply": "2024-09-19T22:53:28.574055Z"
        },
        "trusted": true,
        "id": "nfFAqnomgzAs",
        "outputId": "c1c9e2bd-cb7f-40ac-b312-f18192789d29"
      },
      "execution_count": null,
      "outputs": [
        {
          "name": "stdout",
          "text": "[CV] END min_samples_leaf=1, min_samples_split=2, n_estimators=100; total time=   3.3s\n[CV] END min_samples_leaf=1, min_samples_split=2, n_estimators=1000; total time=  32.7s\n[CV] END min_samples_leaf=1, min_samples_split=10, n_estimators=10; total time=   0.5s\n[CV] END min_samples_leaf=1, min_samples_split=10, n_estimators=10; total time=   0.4s\n[CV] END min_samples_leaf=1, min_samples_split=10, n_estimators=10; total time=   0.6s\n[CV] END min_samples_leaf=1, min_samples_split=10, n_estimators=100; total time=   3.2s\n[CV] END min_samples_leaf=1, min_samples_split=10, n_estimators=100; total time=   3.2s\n[CV] END min_samples_leaf=1, min_samples_split=10, n_estimators=100; total time=   3.0s\n[CV] END min_samples_leaf=1, min_samples_split=10, n_estimators=1000; total time=  30.1s\n[CV] END min_samples_leaf=2, min_samples_split=2, n_estimators=1000; total time=  27.4s\n[CV] END min_samples_leaf=2, min_samples_split=10, n_estimators=10; total time=   0.3s\n[CV] END min_samples_leaf=2, min_samples_split=10, n_estimators=10; total time=   0.3s\n[CV] END min_samples_leaf=2, min_samples_split=10, n_estimators=10; total time=   0.4s\n[CV] END min_samples_leaf=2, min_samples_split=10, n_estimators=100; total time=   2.7s\n[CV] END min_samples_leaf=2, min_samples_split=10, n_estimators=100; total time=   2.8s\n[CV] END min_samples_leaf=2, min_samples_split=10, n_estimators=100; total time=   2.9s\n[CV] END min_samples_leaf=2, min_samples_split=10, n_estimators=1000; total time=  27.9s\n[CV] END min_samples_leaf=3, min_samples_split=2, n_estimators=1000; total time=  24.2s\n[CV] END min_samples_leaf=3, min_samples_split=6, n_estimators=1000; total time=  24.5s\n[CV] END min_samples_leaf=1, min_samples_split=2, n_estimators=10; total time=   0.5s\n[CV] END min_samples_leaf=1, min_samples_split=2, n_estimators=1000; total time=  32.6s\n[CV] END min_samples_leaf=1, min_samples_split=6, n_estimators=1000; total time=  31.1s\n[CV] END min_samples_leaf=1, min_samples_split=10, n_estimators=1000; total time=  29.4s\n[CV] END min_samples_leaf=2, min_samples_split=6, n_estimators=10; total time=   0.4s\n[CV] END min_samples_leaf=2, min_samples_split=6, n_estimators=10; total time=   0.4s\n[CV] END min_samples_leaf=2, min_samples_split=6, n_estimators=10; total time=   0.4s\n[CV] END min_samples_leaf=2, min_samples_split=6, n_estimators=100; total time=   2.8s\n[CV] END min_samples_leaf=2, min_samples_split=6, n_estimators=100; total time=   2.8s\n[CV] END min_samples_leaf=2, min_samples_split=6, n_estimators=100; total time=   2.8s\n[CV] END min_samples_leaf=2, min_samples_split=6, n_estimators=1000; total time=  27.1s\n[CV] END min_samples_leaf=2, min_samples_split=10, n_estimators=1000; total time=  27.1s\n[CV] END min_samples_leaf=3, min_samples_split=6, n_estimators=10; total time=   0.3s\n[CV] END min_samples_leaf=3, min_samples_split=6, n_estimators=10; total time=   0.3s\n[CV] END min_samples_leaf=3, min_samples_split=6, n_estimators=10; total time=   0.4s\n[CV] END min_samples_leaf=3, min_samples_split=6, n_estimators=100; total time=   2.5s\n[CV] END min_samples_leaf=3, min_samples_split=6, n_estimators=100; total time=   2.6s\n[CV] END min_samples_leaf=3, min_samples_split=6, n_estimators=100; total time=   2.5s\n[CV] END min_samples_leaf=3, min_samples_split=6, n_estimators=1000; total time=  24.1s\n[CV] END min_samples_leaf=3, min_samples_split=10, n_estimators=1000; total time=  16.2s\n[CV] END min_samples_leaf=1, min_samples_split=2, n_estimators=10; total time=   0.5s\n[CV] END min_samples_leaf=1, min_samples_split=2, n_estimators=100; total time=   3.4s\n[CV] END min_samples_leaf=1, min_samples_split=6, n_estimators=10; total time=   0.4s\n[CV] END min_samples_leaf=1, min_samples_split=6, n_estimators=10; total time=   0.5s\n[CV] END min_samples_leaf=1, min_samples_split=6, n_estimators=10; total time=   0.4s\n[CV] END min_samples_leaf=1, min_samples_split=6, n_estimators=100; total time=   3.0s\n[CV] END min_samples_leaf=1, min_samples_split=6, n_estimators=100; total time=   3.4s\n[CV] END min_samples_leaf=1, min_samples_split=6, n_estimators=100; total time=   3.3s\n[CV] END min_samples_leaf=1, min_samples_split=6, n_estimators=1000; total time=  31.9s\n[CV] END min_samples_leaf=1, min_samples_split=10, n_estimators=1000; total time=  30.7s\n[CV] END min_samples_leaf=2, min_samples_split=2, n_estimators=1000; total time=  27.2s\n[CV] END min_samples_leaf=2, min_samples_split=6, n_estimators=1000; total time=  27.0s\n[CV] END min_samples_leaf=3, min_samples_split=2, n_estimators=10; total time=   0.4s\n[CV] END min_samples_leaf=3, min_samples_split=2, n_estimators=10; total time=   0.4s\n[CV] END min_samples_leaf=3, min_samples_split=2, n_estimators=10; total time=   0.4s\n[CV] END min_samples_leaf=3, min_samples_split=2, n_estimators=100; total time=   3.2s\n[CV] END min_samples_leaf=3, min_samples_split=2, n_estimators=100; total time=   2.6s\n[CV] END min_samples_leaf=3, min_samples_split=2, n_estimators=100; total time=   2.5s\n[CV] END min_samples_leaf=3, min_samples_split=2, n_estimators=1000; total time=  24.7s\n[CV] END min_samples_leaf=3, min_samples_split=6, n_estimators=1000; total time=  24.3s\n[CV] END min_samples_leaf=3, min_samples_split=10, n_estimators=1000; total time=  20.3s\n[CV] END min_samples_leaf=1, min_samples_split=2, n_estimators=10; total time=   0.5s\n[CV] END min_samples_leaf=1, min_samples_split=2, n_estimators=100; total time=   3.3s\n[CV] END min_samples_leaf=1, min_samples_split=2, n_estimators=1000; total time=  32.3s\n[CV] END min_samples_leaf=1, min_samples_split=6, n_estimators=1000; total time=  30.7s\n[CV] END min_samples_leaf=2, min_samples_split=2, n_estimators=10; total time=   0.4s\n[CV] END min_samples_leaf=2, min_samples_split=2, n_estimators=10; total time=   0.4s\n[CV] END min_samples_leaf=2, min_samples_split=2, n_estimators=10; total time=   0.4s\n[CV] END min_samples_leaf=2, min_samples_split=2, n_estimators=100; total time=   3.4s\n[CV] END min_samples_leaf=2, min_samples_split=2, n_estimators=100; total time=   2.8s\n[CV] END min_samples_leaf=2, min_samples_split=2, n_estimators=100; total time=   2.7s\n[CV] END min_samples_leaf=2, min_samples_split=2, n_estimators=1000; total time=  27.3s\n[CV] END min_samples_leaf=2, min_samples_split=6, n_estimators=1000; total time=  26.7s\n[CV] END min_samples_leaf=2, min_samples_split=10, n_estimators=1000; total time=  26.6s\n[CV] END min_samples_leaf=3, min_samples_split=2, n_estimators=1000; total time=  24.9s\n[CV] END min_samples_leaf=3, min_samples_split=10, n_estimators=10; total time=   0.4s\n[CV] END min_samples_leaf=3, min_samples_split=10, n_estimators=10; total time=   0.4s\n[CV] END min_samples_leaf=3, min_samples_split=10, n_estimators=10; total time=   0.4s\n[CV] END min_samples_leaf=3, min_samples_split=10, n_estimators=100; total time=   2.4s\n[CV] END min_samples_leaf=3, min_samples_split=10, n_estimators=100; total time=   2.6s\n[CV] END min_samples_leaf=3, min_samples_split=10, n_estimators=100; total time=   2.4s\n[CV] END min_samples_leaf=3, min_samples_split=10, n_estimators=1000; total time=  20.0s\n\nModel Report\nAccuracy : 0.9964\nAUC Score (Train): 0.998865\nCV Score : Mean - 0.9962578 | Std - 0.003794247 | Min - 0.9915012 | Max - 0.9995915\nEl entrenamiento del Gradient Boosting Classifier tomó 272 segundos\nDEBUG::Los labels predecidos de Gradient Boosting son::\n[0 0 1 0 1 1 0 1 1 0 0 1 0 0 0 1 1 0 0 1 1 1 0 1 1 1 0 0 0 0 0 1 1 1 1 0 0\n 0 1 0 1 0 0 0 1 0 0 0 1 0 1 0 0 1 0 0 0 1 0 0 1 1 1 1 1 0 0 1 1 1 0 1 0 1\n 0 0 1 1 1 1 1 0 0 1 1 0 1 0 1 1 0 1 1 1 0 1 0 1 0 0 0 1 1 1 0 1 1 0 1 0 0\n 0 0 1 0 1 1 1 0 0 1 1 0 0 1 1 1 0 1 0 1 0 0 1 0 0 1 1 1 1 1 1 1 0 1 0 0 0\n 0 1 0 0 0 0 1 1 1 1 0 0 1 0 1 1 1 0 1 0 0 0 0 1 1 0 1 1 0 0 0 1 0 0 1 0 1\n 0 1 1 0 1 0 1 0 0 1 1 1 0 1 1 0 0 1 0 1 0 1 1 1 0 1 1 1 1 1 1 1 0 1 0 1 1\n 0 1 0 1 0 0 1 1 0 0 1 0 1 1 0 0 0 0 1 0 0 1 0 1 0 0 1 0 0 1 1 0 1 1 0 0 0\n 1 1 0 1 0 0 0 1 1 0 0 1 0 0 0 0 1 1 0 1 1 0 0 0 0 1 1 0 1 0 0 1 0 0 0 1 1\n 1 1 1 1 0 1 0 1 0 0 1 1 0 1 1 1 0 1 1 0 0 0 0 0 1 1 1 1 1 0 1 1 0 0 1 0 0\n 1 0 1 1 0 0 0 1 1 1 0 1 0 0 1 0 1 0 0 0 0 0 0 0 0 0 0 1 1 1 1 0 0 0 1 1 1\n 1 1 1 1 1 1 1 0 1 0 1 1 1 0 0 0 1 1 0 1 0 1 0 0 1 1 1 0 1 0 0 1 0 0 0 0 0\n 1 1 1 1 1 0 0 1 0 1 0 0 0 1 1 1 0 1 0 1 0 0 1 0 1 0 1 1 1 1 0 0 1 0 0 1 0\n 0 0 1 0 1 1 0 1 1 0 1 1 0 1 1 0 1 1 1 0 1 1 1 1 1 0 1 0 0 0 0 1 0 0 0 0 1\n 1 1 0 1 0 0 0 0 0 0 1 1 1 1 1 0 1 1 0 1 0 1 1 0 1 0 1 1 0 0 1 0 1 1 0 0 1\n 0 1 1 1 0 1 0 0 0 0 0 1 0 0 0 0 0 1 0 1 1 1 1 0 0 1 1 1 0 0 1 1 0 1 0 0 1\n 1 1 0 0 1 0 0 0 1 0 0 0 1 0 1 0 0 0 0 0 1 0 1 1 0 0 1 0 1 0 1 1 1 0 0 1 1\n 1 1 0 0 1 1 0 1]\nDEBUG::El testing accuracy score de Gradient Boosting es::\n0.975\n",
          "output_type": "stream"
        }
      ]
    },
    {
      "cell_type": "code",
      "source": [
        "# Haga una curva ROC\n",
        "test_probs_max = [] # primero encontrar las probabilidades correspondientes\n",
        "                    # a la clase más probable (máxima probabilidad)\n",
        "for i in range(test_probs.shape[0]):\n",
        "    test_probs_max.append(test_probs[i,test_y[i]])\n",
        "len(test_probs_max)\n",
        "\n",
        "# ahora, generar los datos de la curva\n",
        "fpr, tpr, thresholds = metrics.roc_curve(test_y, np.array(test_probs_max))\n",
        "\n",
        "# plot curve data\n",
        "import matplotlib.pyplot as plt\n",
        "fig,ax = plt.subplots()\n",
        "plt.plot(fpr,tpr,label='ROC curve')\n",
        "plt.plot([0, 1], [0, 1], color='navy', linestyle='--')\n",
        "plt.xlabel('False Positive Rate')\n",
        "plt.ylabel('True Positive Rate')\n",
        "plt.title('Receiver Operating Characteristic para Ejemplo de Email')\n",
        "plt.legend(loc=\"lower right\")\n",
        "plt.show()"
      ],
      "metadata": {
        "execution": {
          "iopub.status.busy": "2024-09-19T22:53:28.577338Z",
          "iopub.execute_input": "2024-09-19T22:53:28.578399Z",
          "iopub.status.idle": "2024-09-19T22:53:28.940308Z",
          "shell.execute_reply.started": "2024-09-19T22:53:28.578341Z",
          "shell.execute_reply": "2024-09-19T22:53:28.938892Z"
        },
        "trusted": true,
        "id": "4YCeOa0vgzAt",
        "outputId": "148db57a-53bd-42cd-f534-b3d5f3d1ce1c"
      },
      "execution_count": null,
      "outputs": [
        {
          "output_type": "display_data",
          "data": {
            "text/plain": "<Figure size 640x480 with 1 Axes>",
            "image/png": "[encoded data removed]"
          },
          "metadata": {}
        }
      ]
    },
    {
      "cell_type": "markdown",
      "source": [
        "Now, save the image and make it downloadable, so you can use it in local documents"
      ],
      "metadata": {
        "id": "GBd6G1gqgzAt"
      }
    },
    {
      "cell_type": "code",
      "source": [
        "fig.savefig('ROC.eps', format='eps',bbox_inches='tight')\n",
        "fig.savefig('ROC.pdf', format='pdf',bbox_inches='tight')\n",
        "fig.savefig('ROC.png', format='png',bbox_inches='tight')\n",
        "fig.savefig('ROC.svg', format='svg',bbox_inches='tight')"
      ],
      "metadata": {
        "execution": {
          "iopub.status.busy": "2024-09-19T22:53:28.941964Z",
          "iopub.execute_input": "2024-09-19T22:53:28.942449Z",
          "iopub.status.idle": "2024-09-19T22:53:30.364665Z",
          "shell.execute_reply.started": "2024-09-19T22:53:28.942398Z",
          "shell.execute_reply": "2024-09-19T22:53:30.363125Z"
        },
        "trusted": true,
        "id": "hl_4_1zGgzAt"
      },
      "execution_count": null,
      "outputs": []
    },
    {
      "cell_type": "code",
      "source": [
        "# Salvar .svg de ROC\n",
        "from IPython.display import HTML\n",
        "def create_download_link(title = \"Download file\", filename = \"ROC.svg\"):\n",
        "    html = '<a href={filename}>{title}</a>'\n",
        "    html = html.format(title=title,filename=filename)\n",
        "    return HTML(html)\n",
        "\n",
        "create_download_link(filename='ROC.svg')"
      ],
      "metadata": {
        "execution": {
          "iopub.status.busy": "2024-09-19T22:53:30.367145Z",
          "iopub.execute_input": "2024-09-19T22:53:30.368141Z",
          "iopub.status.idle": "2024-09-19T22:53:30.381759Z",
          "shell.execute_reply.started": "2024-09-19T22:53:30.368077Z",
          "shell.execute_reply": "2024-09-19T22:53:30.37992Z"
        },
        "trusted": true,
        "id": "kVDThp72gzAt",
        "outputId": "578e17c4-5564-4170-a516-c49016cde683"
      },
      "execution_count": null,
      "outputs": [
        {
          "execution_count": 34,
          "output_type": "execute_result",
          "data": {
            "text/plain": "<IPython.core.display.HTML object>",
            "text/html": "<a href=ROC.svg>Download file</a>"
          },
          "metadata": {}
        }
      ]
    },
    {
      "cell_type": "markdown",
      "source": [],
      "metadata": {
        "id": "ER2WqgA9gzAt"
      }
    }
  ]
}